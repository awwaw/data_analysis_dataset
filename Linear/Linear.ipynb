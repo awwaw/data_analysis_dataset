{
 "cells": [
  {
   "cell_type": "code",
   "execution_count": 116,
   "metadata": {
    "collapsed": true
   },
   "outputs": [],
   "source": [
    "import numpy as np\n",
    "import pandas as pd"
   ]
  },
  {
   "cell_type": "code",
   "execution_count": 117,
   "outputs": [
    {
     "data": {
      "text/plain": "                                                name     price  rating  \\\n0  Vino Tracer Riesling, Weinkellerei Hechtsheim,... -0.229692       5   \n1                     Vino Lighea, Donnafugata, 2021 -0.180184       5   \n2             Vino Chenin Blanc, David & Nadia, 2022 -0.155955       5   \n3  Vino Pinot Noir Alpine Vineyard, Rhys Vineyard...  0.223636       5   \n4                   Vino Grain de Gris, Listel, 2022 -0.228602       5   \n\n   strength    volume  grape_agiorgitiko  grape_ajren  grape_al'barin'o  \\\n0 -1.133567 -0.121366              False        False             False   \n1 -0.695962 -0.121366              False        False             False   \n2 -0.695962 -0.121366              False        False             False   \n3 -0.345878 -0.121366              False        False             False   \n4 -1.133567 -0.121366              False        False             False   \n\n   grape_al'bil'o  grape_al'janiko  ...  manufacturer_Viticola Mentridana  \\\n0           False            False  ...                             False   \n1           False            False  ...                             False   \n2           False            False  ...                             False   \n3           False            False  ...                             False   \n4           False            False  ...                             False   \n\n   manufacturer_Vodopivec  manufacturer_Volpe Pasini  \\\n0                   False                      False   \n1                   False                      False   \n2                   False                      False   \n3                   False                      False   \n4                   False                      False   \n\n   manufacturer_Weingut Julian Haart  manufacturer_Weinkellerei Hechtsheim  \\\n0                              False                                  True   \n1                              False                                 False   \n2                              False                                 False   \n3                              False                                 False   \n4                              False                                 False   \n\n   manufacturer_William Fevre  manufacturer_Winzer Krems  \\\n0                       False                      False   \n1                       False                      False   \n2                       False                      False   \n3                       False                      False   \n4                       False                      False   \n\n   manufacturer_Yves Cuilleron  manufacturer_Zenato  manufacturer_Zulal  \n0                        False                False               False  \n1                        False                False               False  \n2                        False                False               False  \n3                        False                False               False  \n4                        False                False               False  \n\n[5 rows x 723 columns]",
      "text/html": "<div>\n<style scoped>\n    .dataframe tbody tr th:only-of-type {\n        vertical-align: middle;\n    }\n\n    .dataframe tbody tr th {\n        vertical-align: top;\n    }\n\n    .dataframe thead th {\n        text-align: right;\n    }\n</style>\n<table border=\"1\" class=\"dataframe\">\n  <thead>\n    <tr style=\"text-align: right;\">\n      <th></th>\n      <th>name</th>\n      <th>price</th>\n      <th>rating</th>\n      <th>strength</th>\n      <th>volume</th>\n      <th>grape_agiorgitiko</th>\n      <th>grape_ajren</th>\n      <th>grape_al'barin'o</th>\n      <th>grape_al'bil'o</th>\n      <th>grape_al'janiko</th>\n      <th>...</th>\n      <th>manufacturer_Viticola Mentridana</th>\n      <th>manufacturer_Vodopivec</th>\n      <th>manufacturer_Volpe Pasini</th>\n      <th>manufacturer_Weingut Julian Haart</th>\n      <th>manufacturer_Weinkellerei Hechtsheim</th>\n      <th>manufacturer_William Fevre</th>\n      <th>manufacturer_Winzer Krems</th>\n      <th>manufacturer_Yves Cuilleron</th>\n      <th>manufacturer_Zenato</th>\n      <th>manufacturer_Zulal</th>\n    </tr>\n  </thead>\n  <tbody>\n    <tr>\n      <th>0</th>\n      <td>Vino Tracer Riesling, Weinkellerei Hechtsheim,...</td>\n      <td>-0.229692</td>\n      <td>5</td>\n      <td>-1.133567</td>\n      <td>-0.121366</td>\n      <td>False</td>\n      <td>False</td>\n      <td>False</td>\n      <td>False</td>\n      <td>False</td>\n      <td>...</td>\n      <td>False</td>\n      <td>False</td>\n      <td>False</td>\n      <td>False</td>\n      <td>True</td>\n      <td>False</td>\n      <td>False</td>\n      <td>False</td>\n      <td>False</td>\n      <td>False</td>\n    </tr>\n    <tr>\n      <th>1</th>\n      <td>Vino Lighea, Donnafugata, 2021</td>\n      <td>-0.180184</td>\n      <td>5</td>\n      <td>-0.695962</td>\n      <td>-0.121366</td>\n      <td>False</td>\n      <td>False</td>\n      <td>False</td>\n      <td>False</td>\n      <td>False</td>\n      <td>...</td>\n      <td>False</td>\n      <td>False</td>\n      <td>False</td>\n      <td>False</td>\n      <td>False</td>\n      <td>False</td>\n      <td>False</td>\n      <td>False</td>\n      <td>False</td>\n      <td>False</td>\n    </tr>\n    <tr>\n      <th>2</th>\n      <td>Vino Chenin Blanc, David &amp; Nadia, 2022</td>\n      <td>-0.155955</td>\n      <td>5</td>\n      <td>-0.695962</td>\n      <td>-0.121366</td>\n      <td>False</td>\n      <td>False</td>\n      <td>False</td>\n      <td>False</td>\n      <td>False</td>\n      <td>...</td>\n      <td>False</td>\n      <td>False</td>\n      <td>False</td>\n      <td>False</td>\n      <td>False</td>\n      <td>False</td>\n      <td>False</td>\n      <td>False</td>\n      <td>False</td>\n      <td>False</td>\n    </tr>\n    <tr>\n      <th>3</th>\n      <td>Vino Pinot Noir Alpine Vineyard, Rhys Vineyard...</td>\n      <td>0.223636</td>\n      <td>5</td>\n      <td>-0.345878</td>\n      <td>-0.121366</td>\n      <td>False</td>\n      <td>False</td>\n      <td>False</td>\n      <td>False</td>\n      <td>False</td>\n      <td>...</td>\n      <td>False</td>\n      <td>False</td>\n      <td>False</td>\n      <td>False</td>\n      <td>False</td>\n      <td>False</td>\n      <td>False</td>\n      <td>False</td>\n      <td>False</td>\n      <td>False</td>\n    </tr>\n    <tr>\n      <th>4</th>\n      <td>Vino Grain de Gris, Listel, 2022</td>\n      <td>-0.228602</td>\n      <td>5</td>\n      <td>-1.133567</td>\n      <td>-0.121366</td>\n      <td>False</td>\n      <td>False</td>\n      <td>False</td>\n      <td>False</td>\n      <td>False</td>\n      <td>...</td>\n      <td>False</td>\n      <td>False</td>\n      <td>False</td>\n      <td>False</td>\n      <td>False</td>\n      <td>False</td>\n      <td>False</td>\n      <td>False</td>\n      <td>False</td>\n      <td>False</td>\n    </tr>\n  </tbody>\n</table>\n<p>5 rows × 723 columns</p>\n</div>"
     },
     "execution_count": 117,
     "metadata": {},
     "output_type": "execute_result"
    }
   ],
   "source": [
    "df = pd.read_csv(\"../wines_dataframe.csv\", encoding=\"cp1252\")\n",
    "df.head()"
   ],
   "metadata": {
    "collapsed": false
   }
  },
  {
   "cell_type": "code",
   "execution_count": 118,
   "outputs": [],
   "source": [
    "import category_encoders as ce"
   ],
   "metadata": {
    "collapsed": false
   }
  },
  {
   "cell_type": "code",
   "execution_count": 119,
   "outputs": [
    {
     "data": {
      "text/plain": "                                                name    price  rating  \\\n0  Vino Tracer Riesling, Weinkellerei Hechtsheim,...   1312.0     4.7   \n1                     Vino Lighea, Donnafugata, 2021   4990.0     4.8   \n2             Vino Chenin Blanc, David & Nadia, 2022   6790.0     4.5   \n3  Vino Pinot Noir Alpine Vineyard, Rhys Vineyard...  34990.0     5.0   \n4                   Vino Grain de Gris, Listel, 2022   1393.0     4.6   \n\n                      country              region sweetness             grape  \\\n0                   Germanija             Pfal'ts  semi-dry      risling 100%   \n1                     Italija           Sitsilija       dry      zibibbo 100%   \n2             Juzhnaja Afrika           Svortlend       dry  shenen blan 100%   \n3  Soedinennye Shtaty Ameriki         Kalifornija       dry         pino nuar   \n4                   Frantsija  Langedok-Russil'on       dry              sira   \n\n              manufacturer  strength  volume  \n0  Weinkellerei Hechtsheim      12.0    0.75  \n1              Donnafugata      12.5    0.75  \n2            David & Nadia      12.5    0.75  \n3           Rhys Vineyards      12.9    0.75  \n4                   Listel      12.0    0.75  ",
      "text/html": "<div>\n<style scoped>\n    .dataframe tbody tr th:only-of-type {\n        vertical-align: middle;\n    }\n\n    .dataframe tbody tr th {\n        vertical-align: top;\n    }\n\n    .dataframe thead th {\n        text-align: right;\n    }\n</style>\n<table border=\"1\" class=\"dataframe\">\n  <thead>\n    <tr style=\"text-align: right;\">\n      <th></th>\n      <th>name</th>\n      <th>price</th>\n      <th>rating</th>\n      <th>country</th>\n      <th>region</th>\n      <th>sweetness</th>\n      <th>grape</th>\n      <th>manufacturer</th>\n      <th>strength</th>\n      <th>volume</th>\n    </tr>\n  </thead>\n  <tbody>\n    <tr>\n      <th>0</th>\n      <td>Vino Tracer Riesling, Weinkellerei Hechtsheim,...</td>\n      <td>1312.0</td>\n      <td>4.7</td>\n      <td>Germanija</td>\n      <td>Pfal'ts</td>\n      <td>semi-dry</td>\n      <td>risling 100%</td>\n      <td>Weinkellerei Hechtsheim</td>\n      <td>12.0</td>\n      <td>0.75</td>\n    </tr>\n    <tr>\n      <th>1</th>\n      <td>Vino Lighea, Donnafugata, 2021</td>\n      <td>4990.0</td>\n      <td>4.8</td>\n      <td>Italija</td>\n      <td>Sitsilija</td>\n      <td>dry</td>\n      <td>zibibbo 100%</td>\n      <td>Donnafugata</td>\n      <td>12.5</td>\n      <td>0.75</td>\n    </tr>\n    <tr>\n      <th>2</th>\n      <td>Vino Chenin Blanc, David &amp; Nadia, 2022</td>\n      <td>6790.0</td>\n      <td>4.5</td>\n      <td>Juzhnaja Afrika</td>\n      <td>Svortlend</td>\n      <td>dry</td>\n      <td>shenen blan 100%</td>\n      <td>David &amp; Nadia</td>\n      <td>12.5</td>\n      <td>0.75</td>\n    </tr>\n    <tr>\n      <th>3</th>\n      <td>Vino Pinot Noir Alpine Vineyard, Rhys Vineyard...</td>\n      <td>34990.0</td>\n      <td>5.0</td>\n      <td>Soedinennye Shtaty Ameriki</td>\n      <td>Kalifornija</td>\n      <td>dry</td>\n      <td>pino nuar</td>\n      <td>Rhys Vineyards</td>\n      <td>12.9</td>\n      <td>0.75</td>\n    </tr>\n    <tr>\n      <th>4</th>\n      <td>Vino Grain de Gris, Listel, 2022</td>\n      <td>1393.0</td>\n      <td>4.6</td>\n      <td>Frantsija</td>\n      <td>Langedok-Russil'on</td>\n      <td>dry</td>\n      <td>sira</td>\n      <td>Listel</td>\n      <td>12.0</td>\n      <td>0.75</td>\n    </tr>\n  </tbody>\n</table>\n</div>"
     },
     "execution_count": 119,
     "metadata": {},
     "output_type": "execute_result"
    }
   ],
   "source": [
    "raw_dataset = pd.read_csv(\"../raw_dataframe.csv\", encoding=\"cp1252\")\n",
    "raw_dataset.head()"
   ],
   "metadata": {
    "collapsed": false
   }
  },
  {
   "cell_type": "code",
   "execution_count": 120,
   "outputs": [
    {
     "data": {
      "text/plain": "array(['risling 100%', 'zibibbo 100%', 'shenen blan 100%', 'pino nuar',\n       'sira', 'pino nuar 100%', \"kaberne sovin'on 40%\", 'pti verdo',\n       'kaberne fran', \"sovin'on blan 100%\", 'kisi 100%', 'sira 13%',\n       'sandzhoveze', \"tsvajgel't 100%\", 'merlo 100%', 'shardone 100%',\n       'korteze 100%', 'game 100%', \"sovin'on blan 33%\",\n       'blaufrankish 100%', 'bovaleddu 5%', 'shardone 5%',\n       'nebbiolo 100%', \"mal'bek 5%\", \"kaberne sovin'on\", 'rondinella',\n       'sira 100%', 'merlo', \"trebb'jano di lugana 100%\",\n       \"mal'vazija nera\", \"terol'dego 100%\", \"sovin'on blan 10%\",\n       'kaberne fran 15%', \"kaberne sovin'on 100%\", 'aligote 100%',\n       'merlo 15%', 'tinto fino 100%', 'korvinone', 'verdeho', 'grasiano',\n       'barbera 100%', \"sovin'on gri\", 'pedro himenes 100%',\n       \"pino b'janko 100%\", 'pino blan 100%', 'turiga franka',\n       'garnacha blanka 1%', 'senso', \"sovin'on blan\", 'shiraz 100%',\n       'kolorino', \"sovin'on blan 20%\", 'muskat 100%', 'pti verdo 2%',\n       'pino gridzhio 100%', 'pinotazh 100%', 'merlo 38%',\n       'primitivo 100%', 'saperavi 100%', 'vermentino 100%',\n       \"dol'chetto 100%\", 'torrontes 100%', 'pti verdo 4%',\n       \"mal'bek 100%\", 'pino nero 100%', 'sandzhoveze 100%',\n       'shardone 25%', 'verdikkio 100%', \"al'barin'o\", 'murvedr',\n       'russan 5%', 'kaberne fran 2%', \"montepul'chano 100%\", 'russan',\n       \"kaberne sovin'on 30%\", 'grenash', nan, 'garnacha', 'merlo 40%',\n       \"pino b'janko\", 'verdeho 100%', 'pti verdo 14%', 'pti verdo 5%',\n       'donaurisling 100%', 'gevjurtstraminer 100%', 'merlo 32%',\n       'muskat zheltyj', 'pikardan 3%', \"zinfandel'\", \"moskatel'\",\n       'greko 100%', 'voskeat', 'pti verdo 6%', \"tempranil'o 100%\",\n       'pinotazh', 'fiano 100%', 'rondinella 20%', 'shargamushkotaj',\n       'mjuller turgau 100%', 'kaberne fran 12%', 'falangina 100%',\n       'kaberne fran 40%', 'merlo 50%', 'gro mansan 10%', 'nashetta 100%',\n       'merlo 20%', \"mal'vazija 100%\", 'hihvi 100%', \"mjuskadel' 2%\",\n       \"grjuner vel'tliner 100%\", \"kaberne sovin'on 1%\", \"mjuskadel' 6%\",\n       'kaberne fran 25%', \"mal'vazija 5%\", 'grasiano 4%', 'saperavi',\n       'risling rejnskij', 'molinara', 'kaberlo 100%', 'vermentino',\n       'shiraz', \"kaberne sovin'on 25%\", 'pais', \"vion'e 100%\",\n       'sira 10%', 'kaberne fran 3%', 'katarratto', 'game',\n       'negroamaro 100%', \"turiga nas'onal'\", 'nerello maskaleze 100%',\n       'kaberne fran 5%', 'rondinella 5%', \"vion'e\", 'kodega 25%',\n       'shardone', 'trejshadura 100%', 'grenash blan 2%', 'trusso 100%',\n       \"godel'o 100%\", \"karin'jan 10%\", 'muskat zheltyj 100%',\n       'shardone 8%', \"trebb'jano\", 'rkatsiteli', \"vel'shrisling 30%\",\n       'nero d avola 100%', \"un'i blan\", \"melon de burgon' 100%\",\n       \"mjuskadel'\", \"tempranil'o\", 'merlo 35%', \"karin'ena 100%\",\n       \"sil'vaner 100%\", 'sira 35%', 'garnacha 100%',\n       'risling rejnskij 100%', 'katarratto 100%', \"al'barin'o 100%\",\n       'grenash 25%', 'garganega 100%', 'kaberne fran 11%', \"al'janiko\",\n       \"kaberne sovin'on 5%\", 'pino gridzhio', 'karmener 100%',\n       'kolombar 4%', 'perrikone', 'kaberne fran 23%', 'kanajolo 10%',\n       \"pikpul' 100%\", 'mudzhuretuli', 'arneis 100%', \"vion'e 7%\",\n       \"pino men'e 100%\", 'kaberne fran 100%', 'nuragus 15%', 'ansonika',\n       'merlo 10%', 'nebbiolo', 'vernachcha', 'shpetburgunder 100%',\n       'shenen blan', 'pikardan 2%', \"mal'bek\", 'kunuaz',\n       \"karin'jano 100%\", \"semil'on\", 'ozeleta',\n       \"moskatel' de grano menudo 100%\", 'pti verdo 1%', 'merlo 9%',\n       'karrikante 100%', 'kisi', 'kroatina 100%', \"terol'dego\",\n       \"karin'jano 15%\", 'merlo 16%', 'molinara 5%', 'garnacha blanka',\n       \"sovin'on gri 5%\", 'murvedr 10%', 'primitivo', 'korteze',\n       'pti sira', \"tsvajgel't\", 'traminer', \"bombino b'janko\",\n       \"karin'ena 14%\", 'furmint 100%', 'alikante',\n       \"kaberne sovin'on 50%\", 'sira 5%', 'kaberne fran 4%', 'tinta kao',\n       'pti verdo 3%', 'karmener 1%', 'voskeat 100%', 'kaberne fran 10%',\n       'kanajolo', 'merlo 6%', 'risling', \"al'janiko 100%\", 'murvedr 1%',\n       'gevjurtstraminer', \"kaberne sovin'on 29%\", 'tiburen 5%', 'tannat',\n       'trejshadura', 'rabozo', 'grenash blan', 'kaberne fran 1%',\n       \"kaberne sovin'on 15%\", \"dornfel'der\", \"mal'bek 10%\", \"dol'chetto\",\n       'lalvari 100%', 'krahuna', 'kaberne fran 30%', 'grillo 100%',\n       'gro mansan 100%', 'grenash 100%', \"roll' 100%\", 'odzhaleshi 100%',\n       'kaberne fran 24%', \"semil'on 49%\", 'merlo 29%', 'sira 15%',\n       \"kaberne sovin'on 43%\", 'fer servadu 100%', \"mal'vazija 50%\",\n       'pekorino 100%', 'negroamaro', 'friulano', 'bonarda', 'suzao 5%',\n       'pino nuar 3%', 'marsan 10%', 'garnacha 10%', 'pais 100%', 'fiano',\n       \"montepul'chano\", 'kaberne fran 8%', \"grin'olino 100%\",\n       'tinta rorish', \"savan'en\", \"sovin'on blan 39%\", 'pedro himenes',\n       'shardone 20%', \"vion'e 11%\", 'kaberne fran 38%', 'burbulenk',\n       'sankt laurent 100%', 'rkatsiteli 100%', 'mensija 100%',\n       'friulano 8%', 'krasnostop 100%', 'merlo 8%', 'pti verdo 10%',\n       \"mal'bek 3%\", 'kolombar 5%', 'trusso', 'tinta barroka',\n       'sandzhoveze 30%', 'tinta rorish 40%', \"kaberne sovin'on 42%\",\n       \"sovin'on blan 50%\", 'viura 100%', 'palomino 100%',\n       'kaberne fran 42%', 'areni 100%', 'trusso 50%', 'falangina',\n       'krasnostop', 'grollo', 'vitovska 100%', \"pikpul' 3%\",\n       'lagrejn 100%', \"vion'e 15%\", 'verdikkio 6%', 'pti verdo 7%',\n       'kroatina 10%', 'kleret', 'makabeo', \"manzoni b'janko 100%\",\n       \"mal'vazija\", \"sovin'on blan 15%\", 'bushe (kaberne fran)',\n       'garnacha tintorera', \"muskat ottonel' 100%\", 'kaberne fran 7%',\n       \"karin'jan\", \"semil'on 100%\", 'frappato', 'marsan 100%',\n       \"trebb'jano di soave\", \"semil'on 25%\", 'timorasso 100%',\n       'nerello kapuchcho', 'pino gri 100%', 'merlo 26%', 'shardone 15%',\n       'pti verdo 9%', 'portugizer', \"kaberne sovin'on 10%\", 'pino blan',\n       'pinotazh 7%', 'krahuna 100%', \"kaberne sovin'on 20%\",\n       'ansonika 100%', \"vion'e 4%\", 'ajren', 'tinto fino', 'vespolina',\n       'merlo 33%', 'merlo 25%', 'garnacha blanka 5%', 'mondez nuar 100%',\n       \"semil'on 2%\", 'tannat 5%', 'marselan', 'nochera', 'ozeleta 10%',\n       'shenen blan 3%', \"kaberne sovin'on 24%\", \"sk'java 100%\",\n       'kaberne fran 6%', 'pino nuar 10%', 'karmener',\n       'dorona di venetsija 100%', \"kaberne sovin'on 45%\",\n       \"sovin'on blan 34%\", 'merlo 47%', 'ansonika 10%', \"al'bil'o\",\n       'aligote', 'shiraz 4%', 'sira 20%', 'merlo 30%', 'shiraz 15%',\n       'tinta amarela', \"kaberne sovin'on 35%\", 'souson', 'mavrudi',\n       'senso 100%', 'garnacha blanka 2%', 'suzao', 'krasnostop 8%',\n       'ribolla dzhalla 100%', \"kaberne sovin'on 3%\", 'kolombar',\n       'tinta velasko 5%', 'erbaluche 100%', 'tsimljanskij chernyj 13%',\n       'kolombar 10%', \"kaberne sovin'on 11%\", 'milag 100%',\n       \"kaberne sovin'on 8%\", 'saperavi 7%', 'hatun 20%', 'pti verdo 15%',\n       'kaberne fran 31%', \"trebb'jano 100%\", 'sausau', 'probus 100%',\n       'merlo 37%', 'frejza 100%', 'ozeleta 5%', 'nero d avola 40%',\n       'vakkarez 1%', 'pino gridzhio 30%', \"pul'sar 100%\",\n       'pti verdo 12%', 'mtsvane', 'muskat', \"savan'en 100%\",\n       'pti verdo 11%', 'tsitska 100%', \"un'i blan 10%\", 'pti verdo 13%',\n       'kolombar 100%', 'charello 100%', 'merlo 27%', 'greketto',\n       'kaberne fran 47%', 'frappato 100%', 'pino nuar 30%', \"vion'e 10%\",\n       \"karin'jan 1%\", 'agiorgitiko 100%', \"pino men'e\", 'verdello 2%',\n       'kahuri mtsvane', 'grenash 10%', 'arintu', 'kaberne fran 14%',\n       \"sovin'on blan 30%\", 'muskat aleksandrijskij', \"viozin'o\", 'greko',\n       'pedro himenes 25%', 'saperavi 2%', \"semil'on 34%\"], dtype=object)"
     },
     "execution_count": 120,
     "metadata": {},
     "output_type": "execute_result"
    }
   ],
   "source": [
    "raw_dataset[\"grape\"].unique()"
   ],
   "metadata": {
    "collapsed": false
   }
  },
  {
   "cell_type": "code",
   "execution_count": 121,
   "outputs": [
    {
     "data": {
      "text/plain": "0             risling 100%\n1             zibibbo 100%\n2         shenen blan 100%\n3                pino nuar\n4                     sira\n               ...        \n3545         shardone 100%\n3546          risling 100%\n3547    sovin'on blan 100%\n3548         sovin'on blan\n3549          risling 100%\nName: grape, Length: 3550, dtype: object"
     },
     "execution_count": 121,
     "metadata": {},
     "output_type": "execute_result"
    }
   ],
   "source": [
    "raw_dataset[\"grape\"]"
   ],
   "metadata": {
    "collapsed": false
   }
  },
  {
   "cell_type": "code",
   "execution_count": 122,
   "outputs": [
    {
     "data": {
      "text/plain": "                                                name    price  rating  \\\n0  Vino Tracer Riesling, Weinkellerei Hechtsheim,...   1312.0     4.7   \n1                     Vino Lighea, Donnafugata, 2021   4990.0     4.8   \n2             Vino Chenin Blanc, David & Nadia, 2022   6790.0     4.5   \n3  Vino Pinot Noir Alpine Vineyard, Rhys Vineyard...  34990.0     5.0   \n4                   Vino Grain de Gris, Listel, 2022   1393.0     4.6   \n\n                      country              region sweetness        grape  \\\n0                   Germanija             Pfal'ts  semi-dry      risling   \n1                     Italija           Sitsilija       dry      zibibbo   \n2             Juzhnaja Afrika           Svortlend       dry  shenen blan   \n3  Soedinennye Shtaty Ameriki         Kalifornija       dry    pino nuar   \n4                   Frantsija  Langedok-Russil'on       dry         sira   \n\n              manufacturer  strength  volume  \n0  Weinkellerei Hechtsheim      12.0    0.75  \n1              Donnafugata      12.5    0.75  \n2            David & Nadia      12.5    0.75  \n3           Rhys Vineyards      12.9    0.75  \n4                   Listel      12.0    0.75  ",
      "text/html": "<div>\n<style scoped>\n    .dataframe tbody tr th:only-of-type {\n        vertical-align: middle;\n    }\n\n    .dataframe tbody tr th {\n        vertical-align: top;\n    }\n\n    .dataframe thead th {\n        text-align: right;\n    }\n</style>\n<table border=\"1\" class=\"dataframe\">\n  <thead>\n    <tr style=\"text-align: right;\">\n      <th></th>\n      <th>name</th>\n      <th>price</th>\n      <th>rating</th>\n      <th>country</th>\n      <th>region</th>\n      <th>sweetness</th>\n      <th>grape</th>\n      <th>manufacturer</th>\n      <th>strength</th>\n      <th>volume</th>\n    </tr>\n  </thead>\n  <tbody>\n    <tr>\n      <th>0</th>\n      <td>Vino Tracer Riesling, Weinkellerei Hechtsheim,...</td>\n      <td>1312.0</td>\n      <td>4.7</td>\n      <td>Germanija</td>\n      <td>Pfal'ts</td>\n      <td>semi-dry</td>\n      <td>risling</td>\n      <td>Weinkellerei Hechtsheim</td>\n      <td>12.0</td>\n      <td>0.75</td>\n    </tr>\n    <tr>\n      <th>1</th>\n      <td>Vino Lighea, Donnafugata, 2021</td>\n      <td>4990.0</td>\n      <td>4.8</td>\n      <td>Italija</td>\n      <td>Sitsilija</td>\n      <td>dry</td>\n      <td>zibibbo</td>\n      <td>Donnafugata</td>\n      <td>12.5</td>\n      <td>0.75</td>\n    </tr>\n    <tr>\n      <th>2</th>\n      <td>Vino Chenin Blanc, David &amp; Nadia, 2022</td>\n      <td>6790.0</td>\n      <td>4.5</td>\n      <td>Juzhnaja Afrika</td>\n      <td>Svortlend</td>\n      <td>dry</td>\n      <td>shenen blan</td>\n      <td>David &amp; Nadia</td>\n      <td>12.5</td>\n      <td>0.75</td>\n    </tr>\n    <tr>\n      <th>3</th>\n      <td>Vino Pinot Noir Alpine Vineyard, Rhys Vineyard...</td>\n      <td>34990.0</td>\n      <td>5.0</td>\n      <td>Soedinennye Shtaty Ameriki</td>\n      <td>Kalifornija</td>\n      <td>dry</td>\n      <td>pino nuar</td>\n      <td>Rhys Vineyards</td>\n      <td>12.9</td>\n      <td>0.75</td>\n    </tr>\n    <tr>\n      <th>4</th>\n      <td>Vino Grain de Gris, Listel, 2022</td>\n      <td>1393.0</td>\n      <td>4.6</td>\n      <td>Frantsija</td>\n      <td>Langedok-Russil'on</td>\n      <td>dry</td>\n      <td>sira</td>\n      <td>Listel</td>\n      <td>12.0</td>\n      <td>0.75</td>\n    </tr>\n  </tbody>\n</table>\n</div>"
     },
     "execution_count": 122,
     "metadata": {},
     "output_type": "execute_result"
    }
   ],
   "source": [
    "def process_grapes(grape: str) -> str:\n",
    "    try:\n",
    "        if grape.endswith(\"%\"):\n",
    "            return ' '.join(grape.split()[:-1])\n",
    "        return grape\n",
    "    except AttributeError:\n",
    "        return None\n",
    "\n",
    "\n",
    "raw_dataset[\"grape\"] = raw_dataset[\"grape\"].map(process_grapes)\n",
    "raw_dataset.head()"
   ],
   "metadata": {
    "collapsed": false
   }
  },
  {
   "cell_type": "code",
   "execution_count": 123,
   "outputs": [],
   "source": [
    "encoder = ce.BaseNEncoder(4, cols=[\"country\", \"region\", \"sweetness\", \"grape\", \"manufacturer\"]).fit(raw_dataset)"
   ],
   "metadata": {
    "collapsed": false
   }
  },
  {
   "cell_type": "code",
   "execution_count": 124,
   "outputs": [],
   "source": [
    "raw_dataset = encoder.transform(raw_dataset)"
   ],
   "metadata": {
    "collapsed": false
   }
  },
  {
   "cell_type": "code",
   "execution_count": 125,
   "outputs": [
    {
     "data": {
      "text/plain": "                                                name    price  rating  \\\n0  Vino Tracer Riesling, Weinkellerei Hechtsheim,...   1312.0     4.7   \n1                     Vino Lighea, Donnafugata, 2021   4990.0     4.8   \n2             Vino Chenin Blanc, David & Nadia, 2022   6790.0     4.5   \n3  Vino Pinot Noir Alpine Vineyard, Rhys Vineyard...  34990.0     5.0   \n4                   Vino Grain de Gris, Listel, 2022   1393.0     4.6   \n\n   country_0  country_1  country_2  country_3  country_4  region_0  region_1  \\\n0          0          0          0          0          1         0         0   \n1          0          0          0          1          0         0         0   \n2          0          0          0          1          1         0         0   \n3          0          0          1          0          0         0         0   \n4          0          0          1          0          1         0         0   \n\n   ...  manufacturer_1  manufacturer_2  manufacturer_3  manufacturer_4  \\\n0  ...               0               0               0               0   \n1  ...               0               0               0               0   \n2  ...               0               0               0               0   \n3  ...               0               0               0               0   \n4  ...               0               0               0               0   \n\n   manufacturer_5  manufacturer_6  manufacturer_7  manufacturer_8  strength  \\\n0               0               0               0               1      12.0   \n1               0               0               1               0      12.5   \n2               0               0               1               1      12.5   \n3               0               1               0               0      12.9   \n4               0               1               0               1      12.0   \n\n   volume  \n0    0.75  \n1    0.75  \n2    0.75  \n3    0.75  \n4    0.75  \n\n[5 rows x 37 columns]",
      "text/html": "<div>\n<style scoped>\n    .dataframe tbody tr th:only-of-type {\n        vertical-align: middle;\n    }\n\n    .dataframe tbody tr th {\n        vertical-align: top;\n    }\n\n    .dataframe thead th {\n        text-align: right;\n    }\n</style>\n<table border=\"1\" class=\"dataframe\">\n  <thead>\n    <tr style=\"text-align: right;\">\n      <th></th>\n      <th>name</th>\n      <th>price</th>\n      <th>rating</th>\n      <th>country_0</th>\n      <th>country_1</th>\n      <th>country_2</th>\n      <th>country_3</th>\n      <th>country_4</th>\n      <th>region_0</th>\n      <th>region_1</th>\n      <th>...</th>\n      <th>manufacturer_1</th>\n      <th>manufacturer_2</th>\n      <th>manufacturer_3</th>\n      <th>manufacturer_4</th>\n      <th>manufacturer_5</th>\n      <th>manufacturer_6</th>\n      <th>manufacturer_7</th>\n      <th>manufacturer_8</th>\n      <th>strength</th>\n      <th>volume</th>\n    </tr>\n  </thead>\n  <tbody>\n    <tr>\n      <th>0</th>\n      <td>Vino Tracer Riesling, Weinkellerei Hechtsheim,...</td>\n      <td>1312.0</td>\n      <td>4.7</td>\n      <td>0</td>\n      <td>0</td>\n      <td>0</td>\n      <td>0</td>\n      <td>1</td>\n      <td>0</td>\n      <td>0</td>\n      <td>...</td>\n      <td>0</td>\n      <td>0</td>\n      <td>0</td>\n      <td>0</td>\n      <td>0</td>\n      <td>0</td>\n      <td>0</td>\n      <td>1</td>\n      <td>12.0</td>\n      <td>0.75</td>\n    </tr>\n    <tr>\n      <th>1</th>\n      <td>Vino Lighea, Donnafugata, 2021</td>\n      <td>4990.0</td>\n      <td>4.8</td>\n      <td>0</td>\n      <td>0</td>\n      <td>0</td>\n      <td>1</td>\n      <td>0</td>\n      <td>0</td>\n      <td>0</td>\n      <td>...</td>\n      <td>0</td>\n      <td>0</td>\n      <td>0</td>\n      <td>0</td>\n      <td>0</td>\n      <td>0</td>\n      <td>1</td>\n      <td>0</td>\n      <td>12.5</td>\n      <td>0.75</td>\n    </tr>\n    <tr>\n      <th>2</th>\n      <td>Vino Chenin Blanc, David &amp; Nadia, 2022</td>\n      <td>6790.0</td>\n      <td>4.5</td>\n      <td>0</td>\n      <td>0</td>\n      <td>0</td>\n      <td>1</td>\n      <td>1</td>\n      <td>0</td>\n      <td>0</td>\n      <td>...</td>\n      <td>0</td>\n      <td>0</td>\n      <td>0</td>\n      <td>0</td>\n      <td>0</td>\n      <td>0</td>\n      <td>1</td>\n      <td>1</td>\n      <td>12.5</td>\n      <td>0.75</td>\n    </tr>\n    <tr>\n      <th>3</th>\n      <td>Vino Pinot Noir Alpine Vineyard, Rhys Vineyard...</td>\n      <td>34990.0</td>\n      <td>5.0</td>\n      <td>0</td>\n      <td>0</td>\n      <td>1</td>\n      <td>0</td>\n      <td>0</td>\n      <td>0</td>\n      <td>0</td>\n      <td>...</td>\n      <td>0</td>\n      <td>0</td>\n      <td>0</td>\n      <td>0</td>\n      <td>0</td>\n      <td>1</td>\n      <td>0</td>\n      <td>0</td>\n      <td>12.9</td>\n      <td>0.75</td>\n    </tr>\n    <tr>\n      <th>4</th>\n      <td>Vino Grain de Gris, Listel, 2022</td>\n      <td>1393.0</td>\n      <td>4.6</td>\n      <td>0</td>\n      <td>0</td>\n      <td>1</td>\n      <td>0</td>\n      <td>1</td>\n      <td>0</td>\n      <td>0</td>\n      <td>...</td>\n      <td>0</td>\n      <td>0</td>\n      <td>0</td>\n      <td>0</td>\n      <td>0</td>\n      <td>1</td>\n      <td>0</td>\n      <td>1</td>\n      <td>12.0</td>\n      <td>0.75</td>\n    </tr>\n  </tbody>\n</table>\n<p>5 rows × 37 columns</p>\n</div>"
     },
     "execution_count": 125,
     "metadata": {},
     "output_type": "execute_result"
    }
   ],
   "source": [
    "raw_dataset.head()"
   ],
   "metadata": {
    "collapsed": false
   }
  },
  {
   "cell_type": "code",
   "execution_count": 126,
   "outputs": [
    {
     "data": {
      "text/plain": "{0.0,\n 1.0,\n 2.7,\n 3.0,\n 3.2,\n 3.4,\n 3.5,\n 3.6,\n 3.7,\n 3.8,\n 3.9,\n 4.0,\n 4.1,\n 4.2,\n 4.3,\n 4.4,\n 4.5,\n 4.6,\n 4.7,\n 4.8,\n 4.9,\n 5.0}"
     },
     "execution_count": 126,
     "metadata": {},
     "output_type": "execute_result"
    }
   ],
   "source": [
    "ratings = list(raw_dataset[\"rating\"])\n",
    "set(ratings)"
   ],
   "metadata": {
    "collapsed": false
   }
  },
  {
   "cell_type": "code",
   "execution_count": 127,
   "outputs": [
    {
     "data": {
      "text/plain": "array([4.7, 4.8, 4.5, 5. , 4.6, 3.6, 4.3, 4.1, 0. , 4.9, 4. , 4.4, 4.2,\n       3. , 3.5, 3.9, 3.7, 3.8, 1. , 2.7, 3.4, 3.2])"
     },
     "execution_count": 127,
     "metadata": {},
     "output_type": "execute_result"
    }
   ],
   "source": [
    "raw_dataset.rating.unique()"
   ],
   "metadata": {
    "collapsed": false
   }
  },
  {
   "cell_type": "code",
   "execution_count": 128,
   "outputs": [],
   "source": [
    "rating_threshold = 4"
   ],
   "metadata": {
    "collapsed": false
   }
  },
  {
   "cell_type": "code",
   "execution_count": 129,
   "outputs": [
    {
     "name": "stdout",
     "output_type": "stream",
     "text": [
      "Below 0.0 - 0, above - 3550\n",
      "bad / good = 0.0\n",
      "Below 1.0 - 635, above - 2915\n",
      "bad / good = 0.21783876500857632\n",
      "Below 2.7 - 637, above - 2913\n",
      "bad / good = 0.2186749055956059\n",
      "Below 3.6 - 664, above - 2886\n",
      "bad / good = 0.23007623007623007\n",
      "Below 4.5 - 1443, above - 2107\n",
      "bad / good = 0.6848599905078311\n",
      "Below 5.0 - 2939, above - 611\n",
      "bad / good = 4.810147299509001\n",
      "Below 4.7 - 2188, above - 1362\n",
      "bad / good = 1.6064610866372981\n",
      "Below 4.8 - 2548, above - 1002\n",
      "bad / good = 2.5429141716566868\n",
      "Below 4.6 - 1767, above - 1783\n",
      "bad / good = 0.9910263600673023\n",
      "Below 4.3 - 986, above - 2564\n",
      "bad / good = 0.3845553822152886\n",
      "Below 4.1 - 830, above - 2720\n",
      "bad / good = 0.30514705882352944\n",
      "Below 4.9 - 2819, above - 731\n",
      "bad / good = 3.856361149110807\n",
      "Below 4.0 - 715, above - 2835\n",
      "bad / good = 0.25220458553791886\n",
      "Below 4.4 - 1183, above - 2367\n",
      "bad / good = 0.49978876214617657\n",
      "Below 3.0 - 639, above - 2911\n",
      "bad / good = 0.21951219512195122\n",
      "Below 3.5 - 660, above - 2890\n",
      "bad / good = 0.22837370242214533\n",
      "Below 3.7 - 671, above - 2879\n",
      "bad / good = 0.23306703716568253\n",
      "Below 3.8 - 678, above - 2872\n",
      "bad / good = 0.23607242339832868\n",
      "Below 3.2 - 657, above - 2893\n",
      "bad / good = 0.22709989630141722\n",
      "Below 4.2 - 896, above - 2654\n",
      "bad / good = 0.33760361718161264\n",
      "Below 3.9 - 698, above - 2852\n",
      "bad / good = 0.2447405329593268\n",
      "Below 3.4 - 658, above - 2892\n",
      "bad / good = 0.22752420470262794\n"
     ]
    }
   ],
   "source": [
    "all_ratings = list(set(ratings))\n",
    "size = len(raw_dataset)\n",
    "\n",
    "for rating_threshold in all_ratings:\n",
    "    def mapping(rating: float) -> float:\n",
    "        return 0 if rating < rating_threshold else 1\n",
    "\n",
    "    bad = 0\n",
    "    good = 0\n",
    "\n",
    "    for r in raw_dataset[\"rating\"]:\n",
    "        good += mapping(r)\n",
    "    bad = size - good\n",
    "\n",
    "    print(f\"Below {rating_threshold} - {bad}, above - {good}\")\n",
    "    print(f\"bad / good = {bad / good}\")"
   ],
   "metadata": {
    "collapsed": false
   }
  },
  {
   "cell_type": "markdown",
   "source": [
    "### Чтобы классы были распределены примерно поровну, выбираем `rating_threshold` = 4.6"
   ],
   "metadata": {
    "collapsed": false
   }
  },
  {
   "cell_type": "code",
   "execution_count": 130,
   "outputs": [
    {
     "data": {
      "text/plain": "                                                name    price  rating  \\\n0  Vino Tracer Riesling, Weinkellerei Hechtsheim,...   1312.0       1   \n1                     Vino Lighea, Donnafugata, 2021   4990.0       1   \n2             Vino Chenin Blanc, David & Nadia, 2022   6790.0      -1   \n3  Vino Pinot Noir Alpine Vineyard, Rhys Vineyard...  34990.0       1   \n4                   Vino Grain de Gris, Listel, 2022   1393.0       1   \n\n   country_0  country_1  country_2  country_3  country_4  region_0  region_1  \\\n0          0          0          0          0          1         0         0   \n1          0          0          0          1          0         0         0   \n2          0          0          0          1          1         0         0   \n3          0          0          1          0          0         0         0   \n4          0          0          1          0          1         0         0   \n\n   ...  manufacturer_1  manufacturer_2  manufacturer_3  manufacturer_4  \\\n0  ...               0               0               0               0   \n1  ...               0               0               0               0   \n2  ...               0               0               0               0   \n3  ...               0               0               0               0   \n4  ...               0               0               0               0   \n\n   manufacturer_5  manufacturer_6  manufacturer_7  manufacturer_8  strength  \\\n0               0               0               0               1      12.0   \n1               0               0               1               0      12.5   \n2               0               0               1               1      12.5   \n3               0               1               0               0      12.9   \n4               0               1               0               1      12.0   \n\n   volume  \n0    0.75  \n1    0.75  \n2    0.75  \n3    0.75  \n4    0.75  \n\n[5 rows x 37 columns]",
      "text/html": "<div>\n<style scoped>\n    .dataframe tbody tr th:only-of-type {\n        vertical-align: middle;\n    }\n\n    .dataframe tbody tr th {\n        vertical-align: top;\n    }\n\n    .dataframe thead th {\n        text-align: right;\n    }\n</style>\n<table border=\"1\" class=\"dataframe\">\n  <thead>\n    <tr style=\"text-align: right;\">\n      <th></th>\n      <th>name</th>\n      <th>price</th>\n      <th>rating</th>\n      <th>country_0</th>\n      <th>country_1</th>\n      <th>country_2</th>\n      <th>country_3</th>\n      <th>country_4</th>\n      <th>region_0</th>\n      <th>region_1</th>\n      <th>...</th>\n      <th>manufacturer_1</th>\n      <th>manufacturer_2</th>\n      <th>manufacturer_3</th>\n      <th>manufacturer_4</th>\n      <th>manufacturer_5</th>\n      <th>manufacturer_6</th>\n      <th>manufacturer_7</th>\n      <th>manufacturer_8</th>\n      <th>strength</th>\n      <th>volume</th>\n    </tr>\n  </thead>\n  <tbody>\n    <tr>\n      <th>0</th>\n      <td>Vino Tracer Riesling, Weinkellerei Hechtsheim,...</td>\n      <td>1312.0</td>\n      <td>1</td>\n      <td>0</td>\n      <td>0</td>\n      <td>0</td>\n      <td>0</td>\n      <td>1</td>\n      <td>0</td>\n      <td>0</td>\n      <td>...</td>\n      <td>0</td>\n      <td>0</td>\n      <td>0</td>\n      <td>0</td>\n      <td>0</td>\n      <td>0</td>\n      <td>0</td>\n      <td>1</td>\n      <td>12.0</td>\n      <td>0.75</td>\n    </tr>\n    <tr>\n      <th>1</th>\n      <td>Vino Lighea, Donnafugata, 2021</td>\n      <td>4990.0</td>\n      <td>1</td>\n      <td>0</td>\n      <td>0</td>\n      <td>0</td>\n      <td>1</td>\n      <td>0</td>\n      <td>0</td>\n      <td>0</td>\n      <td>...</td>\n      <td>0</td>\n      <td>0</td>\n      <td>0</td>\n      <td>0</td>\n      <td>0</td>\n      <td>0</td>\n      <td>1</td>\n      <td>0</td>\n      <td>12.5</td>\n      <td>0.75</td>\n    </tr>\n    <tr>\n      <th>2</th>\n      <td>Vino Chenin Blanc, David &amp; Nadia, 2022</td>\n      <td>6790.0</td>\n      <td>-1</td>\n      <td>0</td>\n      <td>0</td>\n      <td>0</td>\n      <td>1</td>\n      <td>1</td>\n      <td>0</td>\n      <td>0</td>\n      <td>...</td>\n      <td>0</td>\n      <td>0</td>\n      <td>0</td>\n      <td>0</td>\n      <td>0</td>\n      <td>0</td>\n      <td>1</td>\n      <td>1</td>\n      <td>12.5</td>\n      <td>0.75</td>\n    </tr>\n    <tr>\n      <th>3</th>\n      <td>Vino Pinot Noir Alpine Vineyard, Rhys Vineyard...</td>\n      <td>34990.0</td>\n      <td>1</td>\n      <td>0</td>\n      <td>0</td>\n      <td>1</td>\n      <td>0</td>\n      <td>0</td>\n      <td>0</td>\n      <td>0</td>\n      <td>...</td>\n      <td>0</td>\n      <td>0</td>\n      <td>0</td>\n      <td>0</td>\n      <td>0</td>\n      <td>1</td>\n      <td>0</td>\n      <td>0</td>\n      <td>12.9</td>\n      <td>0.75</td>\n    </tr>\n    <tr>\n      <th>4</th>\n      <td>Vino Grain de Gris, Listel, 2022</td>\n      <td>1393.0</td>\n      <td>1</td>\n      <td>0</td>\n      <td>0</td>\n      <td>1</td>\n      <td>0</td>\n      <td>1</td>\n      <td>0</td>\n      <td>0</td>\n      <td>...</td>\n      <td>0</td>\n      <td>0</td>\n      <td>0</td>\n      <td>0</td>\n      <td>0</td>\n      <td>1</td>\n      <td>0</td>\n      <td>1</td>\n      <td>12.0</td>\n      <td>0.75</td>\n    </tr>\n  </tbody>\n</table>\n<p>5 rows × 37 columns</p>\n</div>"
     },
     "execution_count": 130,
     "metadata": {},
     "output_type": "execute_result"
    }
   ],
   "source": [
    "# Combining ratings to create binary classification dataset\n",
    "rating_threshold = 4.6\n",
    "\n",
    "\n",
    "def mapping(rating: float) -> float:\n",
    "    return -1 if rating < rating_threshold else 1\n",
    "\n",
    "raw_dataset[\"rating\"] = raw_dataset[\"rating\"].map(mapping)\n",
    "raw_dataset.head()"
   ],
   "metadata": {
    "collapsed": false
   }
  },
  {
   "cell_type": "code",
   "execution_count": 131,
   "outputs": [
    {
     "name": "stdout",
     "output_type": "stream",
     "text": [
      "Below 4.6 - 0, above - 1783\n"
     ]
    }
   ],
   "source": [
    "bad = len(raw_dataset[raw_dataset[\"rating\"] == 0])\n",
    "good = len(raw_dataset[raw_dataset[\"rating\"] == 1])\n",
    "print(f\"Below {rating_threshold} - {bad}, above - {good}\")"
   ],
   "metadata": {
    "collapsed": false
   }
  },
  {
   "cell_type": "code",
   "execution_count": 132,
   "outputs": [
    {
     "data": {
      "text/plain": "                                                name    price  rating  \\\n0  Vino Tracer Riesling, Weinkellerei Hechtsheim,...   1312.0       1   \n1                     Vino Lighea, Donnafugata, 2021   4990.0       1   \n2             Vino Chenin Blanc, David & Nadia, 2022   6790.0      -1   \n3  Vino Pinot Noir Alpine Vineyard, Rhys Vineyard...  34990.0       1   \n4                   Vino Grain de Gris, Listel, 2022   1393.0       1   \n\n   country_0  country_1  country_2  country_3  country_4  region_0  region_1  \\\n0          0          0          0          0          1         0         0   \n1          0          0          0          1          0         0         0   \n2          0          0          0          1          1         0         0   \n3          0          0          1          0          0         0         0   \n4          0          0          1          0          1         0         0   \n\n   ...  manufacturer_1  manufacturer_2  manufacturer_3  manufacturer_4  \\\n0  ...               0               0               0               0   \n1  ...               0               0               0               0   \n2  ...               0               0               0               0   \n3  ...               0               0               0               0   \n4  ...               0               0               0               0   \n\n   manufacturer_5  manufacturer_6  manufacturer_7  manufacturer_8  strength  \\\n0               0               0               0               1      12.0   \n1               0               0               1               0      12.5   \n2               0               0               1               1      12.5   \n3               0               1               0               0      12.9   \n4               0               1               0               1      12.0   \n\n   volume  \n0    0.75  \n1    0.75  \n2    0.75  \n3    0.75  \n4    0.75  \n\n[5 rows x 37 columns]",
      "text/html": "<div>\n<style scoped>\n    .dataframe tbody tr th:only-of-type {\n        vertical-align: middle;\n    }\n\n    .dataframe tbody tr th {\n        vertical-align: top;\n    }\n\n    .dataframe thead th {\n        text-align: right;\n    }\n</style>\n<table border=\"1\" class=\"dataframe\">\n  <thead>\n    <tr style=\"text-align: right;\">\n      <th></th>\n      <th>name</th>\n      <th>price</th>\n      <th>rating</th>\n      <th>country_0</th>\n      <th>country_1</th>\n      <th>country_2</th>\n      <th>country_3</th>\n      <th>country_4</th>\n      <th>region_0</th>\n      <th>region_1</th>\n      <th>...</th>\n      <th>manufacturer_1</th>\n      <th>manufacturer_2</th>\n      <th>manufacturer_3</th>\n      <th>manufacturer_4</th>\n      <th>manufacturer_5</th>\n      <th>manufacturer_6</th>\n      <th>manufacturer_7</th>\n      <th>manufacturer_8</th>\n      <th>strength</th>\n      <th>volume</th>\n    </tr>\n  </thead>\n  <tbody>\n    <tr>\n      <th>0</th>\n      <td>Vino Tracer Riesling, Weinkellerei Hechtsheim,...</td>\n      <td>1312.0</td>\n      <td>1</td>\n      <td>0</td>\n      <td>0</td>\n      <td>0</td>\n      <td>0</td>\n      <td>1</td>\n      <td>0</td>\n      <td>0</td>\n      <td>...</td>\n      <td>0</td>\n      <td>0</td>\n      <td>0</td>\n      <td>0</td>\n      <td>0</td>\n      <td>0</td>\n      <td>0</td>\n      <td>1</td>\n      <td>12.0</td>\n      <td>0.75</td>\n    </tr>\n    <tr>\n      <th>1</th>\n      <td>Vino Lighea, Donnafugata, 2021</td>\n      <td>4990.0</td>\n      <td>1</td>\n      <td>0</td>\n      <td>0</td>\n      <td>0</td>\n      <td>1</td>\n      <td>0</td>\n      <td>0</td>\n      <td>0</td>\n      <td>...</td>\n      <td>0</td>\n      <td>0</td>\n      <td>0</td>\n      <td>0</td>\n      <td>0</td>\n      <td>0</td>\n      <td>1</td>\n      <td>0</td>\n      <td>12.5</td>\n      <td>0.75</td>\n    </tr>\n    <tr>\n      <th>2</th>\n      <td>Vino Chenin Blanc, David &amp; Nadia, 2022</td>\n      <td>6790.0</td>\n      <td>-1</td>\n      <td>0</td>\n      <td>0</td>\n      <td>0</td>\n      <td>1</td>\n      <td>1</td>\n      <td>0</td>\n      <td>0</td>\n      <td>...</td>\n      <td>0</td>\n      <td>0</td>\n      <td>0</td>\n      <td>0</td>\n      <td>0</td>\n      <td>0</td>\n      <td>1</td>\n      <td>1</td>\n      <td>12.5</td>\n      <td>0.75</td>\n    </tr>\n    <tr>\n      <th>3</th>\n      <td>Vino Pinot Noir Alpine Vineyard, Rhys Vineyard...</td>\n      <td>34990.0</td>\n      <td>1</td>\n      <td>0</td>\n      <td>0</td>\n      <td>1</td>\n      <td>0</td>\n      <td>0</td>\n      <td>0</td>\n      <td>0</td>\n      <td>...</td>\n      <td>0</td>\n      <td>0</td>\n      <td>0</td>\n      <td>0</td>\n      <td>0</td>\n      <td>1</td>\n      <td>0</td>\n      <td>0</td>\n      <td>12.9</td>\n      <td>0.75</td>\n    </tr>\n    <tr>\n      <th>4</th>\n      <td>Vino Grain de Gris, Listel, 2022</td>\n      <td>1393.0</td>\n      <td>1</td>\n      <td>0</td>\n      <td>0</td>\n      <td>1</td>\n      <td>0</td>\n      <td>1</td>\n      <td>0</td>\n      <td>0</td>\n      <td>...</td>\n      <td>0</td>\n      <td>0</td>\n      <td>0</td>\n      <td>0</td>\n      <td>0</td>\n      <td>1</td>\n      <td>0</td>\n      <td>1</td>\n      <td>12.0</td>\n      <td>0.75</td>\n    </tr>\n  </tbody>\n</table>\n<p>5 rows × 37 columns</p>\n</div>"
     },
     "execution_count": 132,
     "metadata": {},
     "output_type": "execute_result"
    }
   ],
   "source": [
    "df = raw_dataset\n",
    "df.head()"
   ],
   "metadata": {
    "collapsed": false
   }
  },
  {
   "cell_type": "code",
   "execution_count": 138,
   "outputs": [],
   "source": [
    "import numpy as np"
   ],
   "metadata": {
    "collapsed": false
   }
  },
  {
   "cell_type": "code",
   "execution_count": 139,
   "outputs": [
    {
     "data": {
      "text/plain": "                                                name     price  rating  \\\n0  Vino Tracer Riesling, Weinkellerei Hechtsheim,...  0.000371       1   \n1                     Vino Lighea, Donnafugata, 2021  0.002211       1   \n2             Vino Chenin Blanc, David & Nadia, 2022  0.003111      -1   \n3  Vino Pinot Noir Alpine Vineyard, Rhys Vineyard...  0.017215       1   \n4                   Vino Grain de Gris, Listel, 2022  0.000412       1   \n\n   country_0  country_1  country_2  country_3  country_4  region_0  region_1  \\\n0          0          0          0          0          1         0         0   \n1          0          0          0          1          0         0         0   \n2          0          0          0          1          1         0         0   \n3          0          0          1          0          0         0         0   \n4          0          0          1          0          1         0         0   \n\n   ...  manufacturer_1  manufacturer_2  manufacturer_3  manufacturer_4  \\\n0  ...               0               0               0               0   \n1  ...               0               0               0               0   \n2  ...               0               0               0               0   \n3  ...               0               0               0               0   \n4  ...               0               0               0               0   \n\n   manufacturer_5  manufacturer_6  manufacturer_7  manufacturer_8  strength  \\\n0               0               0               0               1  0.560976   \n1               0               0               1               0  0.585366   \n2               0               0               1               1  0.585366   \n3               0               1               0               0  0.604878   \n4               0               1               0               1  0.560976   \n\n     volume  \n0  0.096852  \n1  0.096852  \n2  0.096852  \n3  0.096852  \n4  0.096852  \n\n[5 rows x 37 columns]",
      "text/html": "<div>\n<style scoped>\n    .dataframe tbody tr th:only-of-type {\n        vertical-align: middle;\n    }\n\n    .dataframe tbody tr th {\n        vertical-align: top;\n    }\n\n    .dataframe thead th {\n        text-align: right;\n    }\n</style>\n<table border=\"1\" class=\"dataframe\">\n  <thead>\n    <tr style=\"text-align: right;\">\n      <th></th>\n      <th>name</th>\n      <th>price</th>\n      <th>rating</th>\n      <th>country_0</th>\n      <th>country_1</th>\n      <th>country_2</th>\n      <th>country_3</th>\n      <th>country_4</th>\n      <th>region_0</th>\n      <th>region_1</th>\n      <th>...</th>\n      <th>manufacturer_1</th>\n      <th>manufacturer_2</th>\n      <th>manufacturer_3</th>\n      <th>manufacturer_4</th>\n      <th>manufacturer_5</th>\n      <th>manufacturer_6</th>\n      <th>manufacturer_7</th>\n      <th>manufacturer_8</th>\n      <th>strength</th>\n      <th>volume</th>\n    </tr>\n  </thead>\n  <tbody>\n    <tr>\n      <th>0</th>\n      <td>Vino Tracer Riesling, Weinkellerei Hechtsheim,...</td>\n      <td>0.000371</td>\n      <td>1</td>\n      <td>0</td>\n      <td>0</td>\n      <td>0</td>\n      <td>0</td>\n      <td>1</td>\n      <td>0</td>\n      <td>0</td>\n      <td>...</td>\n      <td>0</td>\n      <td>0</td>\n      <td>0</td>\n      <td>0</td>\n      <td>0</td>\n      <td>0</td>\n      <td>0</td>\n      <td>1</td>\n      <td>0.560976</td>\n      <td>0.096852</td>\n    </tr>\n    <tr>\n      <th>1</th>\n      <td>Vino Lighea, Donnafugata, 2021</td>\n      <td>0.002211</td>\n      <td>1</td>\n      <td>0</td>\n      <td>0</td>\n      <td>0</td>\n      <td>1</td>\n      <td>0</td>\n      <td>0</td>\n      <td>0</td>\n      <td>...</td>\n      <td>0</td>\n      <td>0</td>\n      <td>0</td>\n      <td>0</td>\n      <td>0</td>\n      <td>0</td>\n      <td>1</td>\n      <td>0</td>\n      <td>0.585366</td>\n      <td>0.096852</td>\n    </tr>\n    <tr>\n      <th>2</th>\n      <td>Vino Chenin Blanc, David &amp; Nadia, 2022</td>\n      <td>0.003111</td>\n      <td>-1</td>\n      <td>0</td>\n      <td>0</td>\n      <td>0</td>\n      <td>1</td>\n      <td>1</td>\n      <td>0</td>\n      <td>0</td>\n      <td>...</td>\n      <td>0</td>\n      <td>0</td>\n      <td>0</td>\n      <td>0</td>\n      <td>0</td>\n      <td>0</td>\n      <td>1</td>\n      <td>1</td>\n      <td>0.585366</td>\n      <td>0.096852</td>\n    </tr>\n    <tr>\n      <th>3</th>\n      <td>Vino Pinot Noir Alpine Vineyard, Rhys Vineyard...</td>\n      <td>0.017215</td>\n      <td>1</td>\n      <td>0</td>\n      <td>0</td>\n      <td>1</td>\n      <td>0</td>\n      <td>0</td>\n      <td>0</td>\n      <td>0</td>\n      <td>...</td>\n      <td>0</td>\n      <td>0</td>\n      <td>0</td>\n      <td>0</td>\n      <td>0</td>\n      <td>1</td>\n      <td>0</td>\n      <td>0</td>\n      <td>0.604878</td>\n      <td>0.096852</td>\n    </tr>\n    <tr>\n      <th>4</th>\n      <td>Vino Grain de Gris, Listel, 2022</td>\n      <td>0.000412</td>\n      <td>1</td>\n      <td>0</td>\n      <td>0</td>\n      <td>1</td>\n      <td>0</td>\n      <td>1</td>\n      <td>0</td>\n      <td>0</td>\n      <td>...</td>\n      <td>0</td>\n      <td>0</td>\n      <td>0</td>\n      <td>0</td>\n      <td>0</td>\n      <td>1</td>\n      <td>0</td>\n      <td>1</td>\n      <td>0.560976</td>\n      <td>0.096852</td>\n    </tr>\n  </tbody>\n</table>\n<p>5 rows × 37 columns</p>\n</div>"
     },
     "execution_count": 139,
     "metadata": {},
     "output_type": "execute_result"
    }
   ],
   "source": [
    "def normalize_column(column: str):\n",
    "    df[column] = (df[column] - df[column].min()) / (df[column].max() - df[column].min())\n",
    "\n",
    "columns = [\"price\", \"strength\", \"volume\"]\n",
    "\n",
    "for col in columns:\n",
    "    normalize_column(col)\n",
    "\n",
    "df.head()"
   ],
   "metadata": {
    "collapsed": false
   }
  },
  {
   "cell_type": "code",
   "execution_count": 140,
   "outputs": [],
   "source": [
    "def ridge_regression(X: pd.DataFrame, y: pd.Series, alpha: float):\n",
    "    n = X.shape[1]\n",
    "    I = np.identity(n)\n",
    "    matrix = X.to_numpy()\n",
    "    y_ = y.to_numpy()\n",
    "    XTX = matrix.T.dot(matrix)\n",
    "    XTX_alpha_I = XTX + alpha * I\n",
    "\n",
    "    XTy = matrix.T.dot(y_)\n",
    "    beta = np.linalg.inv(XTX_alpha_I).dot(XTy)\n",
    "\n",
    "    return beta"
   ],
   "metadata": {
    "collapsed": false
   }
  },
  {
   "cell_type": "code",
   "execution_count": 141,
   "outputs": [
    {
     "data": {
      "text/plain": "                                                name     price  country_0  \\\n0  Vino Tracer Riesling, Weinkellerei Hechtsheim,...  0.000371          0   \n1                     Vino Lighea, Donnafugata, 2021  0.002211          0   \n2             Vino Chenin Blanc, David & Nadia, 2022  0.003111          0   \n3  Vino Pinot Noir Alpine Vineyard, Rhys Vineyard...  0.017215          0   \n4                   Vino Grain de Gris, Listel, 2022  0.000412          0   \n\n   country_1  country_2  country_3  country_4  region_0  region_1  region_2  \\\n0          0          0          0          1         0         0         0   \n1          0          0          1          0         0         0         0   \n2          0          0          1          1         0         0         0   \n3          0          1          0          0         0         0         0   \n4          0          1          0          1         0         0         0   \n\n   ...  manufacturer_1  manufacturer_2  manufacturer_3  manufacturer_4  \\\n0  ...               0               0               0               0   \n1  ...               0               0               0               0   \n2  ...               0               0               0               0   \n3  ...               0               0               0               0   \n4  ...               0               0               0               0   \n\n   manufacturer_5  manufacturer_6  manufacturer_7  manufacturer_8  strength  \\\n0               0               0               0               1  0.560976   \n1               0               0               1               0  0.585366   \n2               0               0               1               1  0.585366   \n3               0               1               0               0  0.604878   \n4               0               1               0               1  0.560976   \n\n     volume  \n0  0.096852  \n1  0.096852  \n2  0.096852  \n3  0.096852  \n4  0.096852  \n\n[5 rows x 36 columns]",
      "text/html": "<div>\n<style scoped>\n    .dataframe tbody tr th:only-of-type {\n        vertical-align: middle;\n    }\n\n    .dataframe tbody tr th {\n        vertical-align: top;\n    }\n\n    .dataframe thead th {\n        text-align: right;\n    }\n</style>\n<table border=\"1\" class=\"dataframe\">\n  <thead>\n    <tr style=\"text-align: right;\">\n      <th></th>\n      <th>name</th>\n      <th>price</th>\n      <th>country_0</th>\n      <th>country_1</th>\n      <th>country_2</th>\n      <th>country_3</th>\n      <th>country_4</th>\n      <th>region_0</th>\n      <th>region_1</th>\n      <th>region_2</th>\n      <th>...</th>\n      <th>manufacturer_1</th>\n      <th>manufacturer_2</th>\n      <th>manufacturer_3</th>\n      <th>manufacturer_4</th>\n      <th>manufacturer_5</th>\n      <th>manufacturer_6</th>\n      <th>manufacturer_7</th>\n      <th>manufacturer_8</th>\n      <th>strength</th>\n      <th>volume</th>\n    </tr>\n  </thead>\n  <tbody>\n    <tr>\n      <th>0</th>\n      <td>Vino Tracer Riesling, Weinkellerei Hechtsheim,...</td>\n      <td>0.000371</td>\n      <td>0</td>\n      <td>0</td>\n      <td>0</td>\n      <td>0</td>\n      <td>1</td>\n      <td>0</td>\n      <td>0</td>\n      <td>0</td>\n      <td>...</td>\n      <td>0</td>\n      <td>0</td>\n      <td>0</td>\n      <td>0</td>\n      <td>0</td>\n      <td>0</td>\n      <td>0</td>\n      <td>1</td>\n      <td>0.560976</td>\n      <td>0.096852</td>\n    </tr>\n    <tr>\n      <th>1</th>\n      <td>Vino Lighea, Donnafugata, 2021</td>\n      <td>0.002211</td>\n      <td>0</td>\n      <td>0</td>\n      <td>0</td>\n      <td>1</td>\n      <td>0</td>\n      <td>0</td>\n      <td>0</td>\n      <td>0</td>\n      <td>...</td>\n      <td>0</td>\n      <td>0</td>\n      <td>0</td>\n      <td>0</td>\n      <td>0</td>\n      <td>0</td>\n      <td>1</td>\n      <td>0</td>\n      <td>0.585366</td>\n      <td>0.096852</td>\n    </tr>\n    <tr>\n      <th>2</th>\n      <td>Vino Chenin Blanc, David &amp; Nadia, 2022</td>\n      <td>0.003111</td>\n      <td>0</td>\n      <td>0</td>\n      <td>0</td>\n      <td>1</td>\n      <td>1</td>\n      <td>0</td>\n      <td>0</td>\n      <td>0</td>\n      <td>...</td>\n      <td>0</td>\n      <td>0</td>\n      <td>0</td>\n      <td>0</td>\n      <td>0</td>\n      <td>0</td>\n      <td>1</td>\n      <td>1</td>\n      <td>0.585366</td>\n      <td>0.096852</td>\n    </tr>\n    <tr>\n      <th>3</th>\n      <td>Vino Pinot Noir Alpine Vineyard, Rhys Vineyard...</td>\n      <td>0.017215</td>\n      <td>0</td>\n      <td>0</td>\n      <td>1</td>\n      <td>0</td>\n      <td>0</td>\n      <td>0</td>\n      <td>0</td>\n      <td>0</td>\n      <td>...</td>\n      <td>0</td>\n      <td>0</td>\n      <td>0</td>\n      <td>0</td>\n      <td>0</td>\n      <td>1</td>\n      <td>0</td>\n      <td>0</td>\n      <td>0.604878</td>\n      <td>0.096852</td>\n    </tr>\n    <tr>\n      <th>4</th>\n      <td>Vino Grain de Gris, Listel, 2022</td>\n      <td>0.000412</td>\n      <td>0</td>\n      <td>0</td>\n      <td>1</td>\n      <td>0</td>\n      <td>1</td>\n      <td>0</td>\n      <td>0</td>\n      <td>0</td>\n      <td>...</td>\n      <td>0</td>\n      <td>0</td>\n      <td>0</td>\n      <td>0</td>\n      <td>0</td>\n      <td>1</td>\n      <td>0</td>\n      <td>1</td>\n      <td>0.560976</td>\n      <td>0.096852</td>\n    </tr>\n  </tbody>\n</table>\n<p>5 rows × 36 columns</p>\n</div>"
     },
     "execution_count": 141,
     "metadata": {},
     "output_type": "execute_result"
    }
   ],
   "source": [
    "X = df.drop(\"rating\", axis=1)\n",
    "y = df[\"rating\"]\n",
    "X.head()"
   ],
   "metadata": {
    "collapsed": false
   }
  },
  {
   "cell_type": "code",
   "execution_count": 142,
   "outputs": [
    {
     "ename": "TypeError",
     "evalue": "can't multiply sequence by non-int of type 'float'",
     "output_type": "error",
     "traceback": [
      "\u001B[0;31m---------------------------------------------------------------------------\u001B[0m",
      "\u001B[0;31mTypeError\u001B[0m                                 Traceback (most recent call last)",
      "Cell \u001B[0;32mIn[142], line 1\u001B[0m\n\u001B[0;32m----> 1\u001B[0m beta \u001B[38;5;241m=\u001B[39m \u001B[43mridge_regression\u001B[49m\u001B[43m(\u001B[49m\u001B[43mX\u001B[49m\u001B[43m,\u001B[49m\u001B[43m \u001B[49m\u001B[43my\u001B[49m\u001B[43m,\u001B[49m\u001B[43m \u001B[49m\u001B[38;5;241;43m1.0\u001B[39;49m\u001B[43m)\u001B[49m\n\u001B[1;32m      2\u001B[0m beta\n",
      "Cell \u001B[0;32mIn[140], line 6\u001B[0m, in \u001B[0;36mridge_regression\u001B[0;34m(X, y, alpha)\u001B[0m\n\u001B[1;32m      4\u001B[0m matrix \u001B[38;5;241m=\u001B[39m X\u001B[38;5;241m.\u001B[39mto_numpy()\n\u001B[1;32m      5\u001B[0m y_ \u001B[38;5;241m=\u001B[39m y\u001B[38;5;241m.\u001B[39mto_numpy()\n\u001B[0;32m----> 6\u001B[0m XTX \u001B[38;5;241m=\u001B[39m \u001B[43mmatrix\u001B[49m\u001B[38;5;241;43m.\u001B[39;49m\u001B[43mT\u001B[49m\u001B[38;5;241;43m.\u001B[39;49m\u001B[43mdot\u001B[49m\u001B[43m(\u001B[49m\u001B[43mmatrix\u001B[49m\u001B[43m)\u001B[49m\n\u001B[1;32m      7\u001B[0m XTX_alpha_I \u001B[38;5;241m=\u001B[39m XTX \u001B[38;5;241m+\u001B[39m alpha \u001B[38;5;241m*\u001B[39m I\n\u001B[1;32m      9\u001B[0m XTy \u001B[38;5;241m=\u001B[39m matrix\u001B[38;5;241m.\u001B[39mT\u001B[38;5;241m.\u001B[39mdot(y_)\n",
      "\u001B[0;31mTypeError\u001B[0m: can't multiply sequence by non-int of type 'float'"
     ]
    }
   ],
   "source": [
    "beta = ridge_regression(X, y, 1.0)\n",
    "beta"
   ],
   "metadata": {
    "collapsed": false
   }
  }
 ],
 "metadata": {
  "kernelspec": {
   "display_name": "Python 3",
   "language": "python",
   "name": "python3"
  },
  "language_info": {
   "codemirror_mode": {
    "name": "ipython",
    "version": 2
   },
   "file_extension": ".py",
   "mimetype": "text/x-python",
   "name": "python",
   "nbconvert_exporter": "python",
   "pygments_lexer": "ipython2",
   "version": "2.7.6"
  }
 },
 "nbformat": 4,
 "nbformat_minor": 0
}
