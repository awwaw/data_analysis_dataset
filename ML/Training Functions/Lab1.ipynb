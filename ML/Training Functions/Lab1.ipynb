{
 "cells": [
  {
   "cell_type": "code",
   "execution_count": 51,
   "metadata": {
    "collapsed": true
   },
   "outputs": [],
   "source": [
    "import pandas as pd\n",
    "import numpy as np"
   ]
  },
  {
   "cell_type": "markdown",
   "source": [
    "### Реализуем функции активации"
   ],
   "metadata": {
    "collapsed": false
   }
  },
  {
   "cell_type": "code",
   "execution_count": 52,
   "outputs": [],
   "source": [
    "def identity(data: np.ndarray) -> np.ndarray:\n",
    "    return data\n",
    "\n",
    "\n",
    "def identity_derivative(x: np.ndarray) -> np.ndarray:\n",
    "    return np.ones_like(x)\n",
    "\n",
    "\n",
    "def relu(x):\n",
    "    return np.maximum(0, x)\n",
    "\n",
    "\n",
    "def relu_derivative(x):\n",
    "    return np.where(x > 0, 1, 0)\n",
    "\n",
    "\n",
    "def tanh(data: np.ndarray) -> np.ndarray:\n",
    "    return np.tanh(data)\n",
    "\n",
    "\n",
    "def tanh_derivative(x: np.ndarray) -> np.ndarray:\n",
    "    return 1.0 - tanh(x)**2"
   ],
   "metadata": {
    "collapsed": false
   }
  },
  {
   "cell_type": "code",
   "execution_count": 53,
   "outputs": [],
   "source": [
    "from typing import Callable"
   ],
   "metadata": {
    "collapsed": false
   }
  },
  {
   "cell_type": "code",
   "execution_count": 54,
   "outputs": [],
   "source": [
    "class ActivationFunction:\n",
    "    def __init__(self\n",
    "                 , name: str\n",
    "                 , activation_function: Callable[[np.ndarray], np.ndarray]\n",
    "                 , activation_derivative: Callable[[np.ndarray], np.ndarray]):\n",
    "        self.__name = name\n",
    "        self.__activation_function = activation_function\n",
    "        self.__activation_derivative = activation_derivative\n",
    "\n",
    "    def name(self):\n",
    "        return self.__name\n",
    "\n",
    "    def activate(self, X: np.ndarray):\n",
    "        return self.__activation_function(X)\n",
    "\n",
    "    def derivative(self, X: np.ndarray):\n",
    "        return self.__activation_derivative(X)\n",
    "\n",
    "\n",
    "activation_functions = [\n",
    "    ActivationFunction(\"Identity\", identity, identity_derivative),\n",
    "    ActivationFunction(\"ReLU\", relu, relu_derivative),\n",
    "    ActivationFunction(\"Tanh\", tanh, tanh_derivative)\n",
    "]"
   ],
   "metadata": {
    "collapsed": false
   }
  },
  {
   "cell_type": "code",
   "execution_count": 55,
   "outputs": [],
   "source": [
    "EPS = 1e-15\n",
    "\n",
    "\n",
    "def softmax(values: np.ndarray):\n",
    "    max_value = np.max(values, axis=1, keepdims=True)\n",
    "    exp_values = np.exp(values - max_value)\n",
    "    exp_values_sum = np.sum(exp_values, axis=1, keepdims=True)\n",
    "    return exp_values / exp_values_sum\n",
    "\n",
    "\n",
    "def cross_entropy(y_pred: np.ndarray, y_true: np.ndarray):\n",
    "    eps = 1e-15\n",
    "    y_pred = np.clip(y_pred, eps, 1 - eps)\n",
    "    loss = -np.sum(y_true * np.log(y_pred))\n",
    "    return loss / len(y_true)\n",
    "\n",
    "\n",
    "def cross_entropy_gradient(y_pred: np.ndarray, y_true: np.ndarray) -> np.ndarray:\n",
    "    eps = 1e-15\n",
    "    y_pred = np.clip(y_pred, eps, 1 - eps)\n",
    "    y_true = y_true.reshape(-1, 1)\n",
    "    return -(y_true / y_pred) + (1 - y_true) / (1 - y_pred)\n"
   ],
   "metadata": {
    "collapsed": false
   }
  },
  {
   "cell_type": "code",
   "execution_count": 56,
   "outputs": [],
   "source": [
    "class Layer:\n",
    "    \"\"\"\n",
    "    Class which represents single layer of network\n",
    "\n",
    "    It stores data about its weights' matrix, biases and activation function\n",
    "    and can make forward pass and backpropagation\n",
    "    \"\"\"\n",
    "    def  __init__(self\n",
    "                 , input_size: int\n",
    "                 , output_size: int\n",
    "                 , activation_function: ActivationFunction):\n",
    "        \"\"\"\n",
    "        Layer constructor\n",
    "        Weights matrix shape will be input_size x output_size\n",
    "\n",
    "        :param input_size: Size of input, which is size of previous layer output's size\n",
    "        :param output_size: Output size\n",
    "        :param activation_function: activation function\n",
    "        \"\"\"\n",
    "        self.__input_size = input_size\n",
    "        self.__output_size = output_size\n",
    "        self.__activation_function = activation_function\n",
    "        self.weights = np.random.randn(input_size, output_size) * 0.01\n",
    "        self.biases = np.random.randn(1, output_size)\n",
    "        self.Z = None\n",
    "        self.A = None\n",
    "\n",
    "    def forward(self, X: np.ndarray) -> np.ndarray:\n",
    "        \"\"\"\n",
    "        Simple matrix transformation\n",
    "\n",
    "        We multiply the matrix obtained as an input by the matrix of weights of this layer,\n",
    "        make a shift and apply the activation function to this\n",
    "\n",
    "        :param X: input matrix (result of previous layer or starting data)\n",
    "        :return: Result of activation function applied to matrix transformation\n",
    "        \"\"\"\n",
    "        self.Z = np.dot(X, self.weights) + self.biases\n",
    "        self.A = self.__activation_function.activate(self.Z)\n",
    "        return self.A\n",
    "\n",
    "\n",
    "    def backward(self, dA: np.ndarray, learning_rate: float, X_prev: np.ndarray) -> np.ndarray:\n",
    "        dZ = dA * self.__activation_function.derivative(self.Z)\n",
    "        dW = np.dot(X_prev.T, dZ)\n",
    "        db = np.sum(dZ, axis=0, keepdims=True)\n",
    "        self.weights -= learning_rate * dW\n",
    "        self.biases -= learning_rate * db\n",
    "        dA_prev = np.dot(dZ, self.weights.T)\n",
    "        return dA_prev\n",
    "\n",
    "\n",
    "\n",
    "class Network:\n",
    "    def __init__(self, layers: list[Layer], learning_rate: float, epochs: int):\n",
    "        self.__layers = layers\n",
    "        self.__learning_rate = learning_rate\n",
    "        self.__epochs = epochs\n",
    "\n",
    "    def train(self\n",
    "              , X: np.ndarray\n",
    "              , Y: np.ndarray) -> np.ndarray:\n",
    "\n",
    "        for epoch in range(self.__epochs):\n",
    "            A = X\n",
    "\n",
    "            for layer in self.__layers:\n",
    "                A = layer.forward(A)\n",
    "\n",
    "            loss = cross_entropy(A, Y)\n",
    "            dA = cross_entropy_gradient(A, Y)\n",
    "\n",
    "            for i in reversed(range(len(self.__layers))):\n",
    "                layer = self.__layers[i]\n",
    "                if i == 0:\n",
    "                    X_prev = X\n",
    "                else:\n",
    "                    X_prev = self.__layers[i-1].A\n",
    "\n",
    "                dA = layer.backward(dA, self.__learning_rate, X_prev)\n",
    "\n",
    "\n",
    "            if epoch % 100 == 0:\n",
    "                print(f\"Epoch: {epoch}, loss: {loss}\")\n",
    "        return A"
   ],
   "metadata": {
    "collapsed": false
   }
  },
  {
   "cell_type": "markdown",
   "source": [
    "### Теперь будем разбираться с тем, как заиспользовать полученную сеть для задачи классификации рейтингов вин"
   ],
   "metadata": {
    "collapsed": false
   }
  },
  {
   "cell_type": "code",
   "execution_count": 57,
   "outputs": [
    {
     "data": {
      "text/plain": "                                                name    price  rating  \\\n0  Vino Tracer Riesling, Weinkellerei Hechtsheim,...   1312.0     4.7   \n1                     Vino Lighea, Donnafugata, 2021   4990.0     4.8   \n2             Vino Chenin Blanc, David & Nadia, 2022   6790.0     4.5   \n3  Vino Pinot Noir Alpine Vineyard, Rhys Vineyard...  34990.0     5.0   \n4                   Vino Grain de Gris, Listel, 2022   1393.0     4.6   \n\n                      country              region sweetness             grape  \\\n0                   Germanija             Pfal'ts  semi-dry      risling 100%   \n1                     Italija           Sitsilija       dry      zibibbo 100%   \n2             Juzhnaja Afrika           Svortlend       dry  shenen blan 100%   \n3  Soedinennye Shtaty Ameriki         Kalifornija       dry         pino nuar   \n4                   Frantsija  Langedok-Russil'on       dry              sira   \n\n              manufacturer  strength  volume  \n0  Weinkellerei Hechtsheim      12.0    0.75  \n1              Donnafugata      12.5    0.75  \n2            David & Nadia      12.5    0.75  \n3           Rhys Vineyards      12.9    0.75  \n4                   Listel      12.0    0.75  ",
      "text/html": "<div>\n<style scoped>\n    .dataframe tbody tr th:only-of-type {\n        vertical-align: middle;\n    }\n\n    .dataframe tbody tr th {\n        vertical-align: top;\n    }\n\n    .dataframe thead th {\n        text-align: right;\n    }\n</style>\n<table border=\"1\" class=\"dataframe\">\n  <thead>\n    <tr style=\"text-align: right;\">\n      <th></th>\n      <th>name</th>\n      <th>price</th>\n      <th>rating</th>\n      <th>country</th>\n      <th>region</th>\n      <th>sweetness</th>\n      <th>grape</th>\n      <th>manufacturer</th>\n      <th>strength</th>\n      <th>volume</th>\n    </tr>\n  </thead>\n  <tbody>\n    <tr>\n      <th>0</th>\n      <td>Vino Tracer Riesling, Weinkellerei Hechtsheim,...</td>\n      <td>1312.0</td>\n      <td>4.7</td>\n      <td>Germanija</td>\n      <td>Pfal'ts</td>\n      <td>semi-dry</td>\n      <td>risling 100%</td>\n      <td>Weinkellerei Hechtsheim</td>\n      <td>12.0</td>\n      <td>0.75</td>\n    </tr>\n    <tr>\n      <th>1</th>\n      <td>Vino Lighea, Donnafugata, 2021</td>\n      <td>4990.0</td>\n      <td>4.8</td>\n      <td>Italija</td>\n      <td>Sitsilija</td>\n      <td>dry</td>\n      <td>zibibbo 100%</td>\n      <td>Donnafugata</td>\n      <td>12.5</td>\n      <td>0.75</td>\n    </tr>\n    <tr>\n      <th>2</th>\n      <td>Vino Chenin Blanc, David &amp; Nadia, 2022</td>\n      <td>6790.0</td>\n      <td>4.5</td>\n      <td>Juzhnaja Afrika</td>\n      <td>Svortlend</td>\n      <td>dry</td>\n      <td>shenen blan 100%</td>\n      <td>David &amp; Nadia</td>\n      <td>12.5</td>\n      <td>0.75</td>\n    </tr>\n    <tr>\n      <th>3</th>\n      <td>Vino Pinot Noir Alpine Vineyard, Rhys Vineyard...</td>\n      <td>34990.0</td>\n      <td>5.0</td>\n      <td>Soedinennye Shtaty Ameriki</td>\n      <td>Kalifornija</td>\n      <td>dry</td>\n      <td>pino nuar</td>\n      <td>Rhys Vineyards</td>\n      <td>12.9</td>\n      <td>0.75</td>\n    </tr>\n    <tr>\n      <th>4</th>\n      <td>Vino Grain de Gris, Listel, 2022</td>\n      <td>1393.0</td>\n      <td>4.6</td>\n      <td>Frantsija</td>\n      <td>Langedok-Russil'on</td>\n      <td>dry</td>\n      <td>sira</td>\n      <td>Listel</td>\n      <td>12.0</td>\n      <td>0.75</td>\n    </tr>\n  </tbody>\n</table>\n</div>"
     },
     "execution_count": 57,
     "metadata": {},
     "output_type": "execute_result"
    }
   ],
   "source": [
    "df = pd.read_csv(\"../../raw_dataframe.csv\", encoding=\"cp1252\")\n",
    "df.head()"
   ],
   "metadata": {
    "collapsed": false
   }
  },
  {
   "cell_type": "code",
   "execution_count": 58,
   "outputs": [
    {
     "data": {
      "text/plain": "(3550, 10)"
     },
     "execution_count": 58,
     "metadata": {},
     "output_type": "execute_result"
    }
   ],
   "source": [
    "df.shape"
   ],
   "metadata": {
    "collapsed": false
   }
  },
  {
   "cell_type": "code",
   "execution_count": 59,
   "outputs": [],
   "source": [
    "df = df.dropna()"
   ],
   "metadata": {
    "collapsed": false
   }
  },
  {
   "cell_type": "code",
   "execution_count": 60,
   "outputs": [
    {
     "data": {
      "text/plain": "grape\n<class 'str'>    3438\nName: count, dtype: int64"
     },
     "execution_count": 60,
     "metadata": {},
     "output_type": "execute_result"
    }
   ],
   "source": [
    "df['grape'].map(type).value_counts()"
   ],
   "metadata": {
    "collapsed": false
   }
  },
  {
   "cell_type": "code",
   "execution_count": 61,
   "outputs": [
    {
     "data": {
      "text/plain": "                                                name    price  rating  \\\n0  Vino Tracer Riesling, Weinkellerei Hechtsheim,...   1312.0     4.7   \n1                     Vino Lighea, Donnafugata, 2021   4990.0     4.8   \n2             Vino Chenin Blanc, David & Nadia, 2022   6790.0     4.5   \n3  Vino Pinot Noir Alpine Vineyard, Rhys Vineyard...  34990.0     5.0   \n4                   Vino Grain de Gris, Listel, 2022   1393.0     4.6   \n\n                      country              region sweetness        grape  \\\n0                   Germanija             Pfal'ts  semi-dry      risling   \n1                     Italija           Sitsilija       dry      zibibbo   \n2             Juzhnaja Afrika           Svortlend       dry  shenen blan   \n3  Soedinennye Shtaty Ameriki         Kalifornija       dry    pino nuar   \n4                   Frantsija  Langedok-Russil'on       dry         sira   \n\n              manufacturer  strength  volume  \n0  Weinkellerei Hechtsheim      12.0    0.75  \n1              Donnafugata      12.5    0.75  \n2            David & Nadia      12.5    0.75  \n3           Rhys Vineyards      12.9    0.75  \n4                   Listel      12.0    0.75  ",
      "text/html": "<div>\n<style scoped>\n    .dataframe tbody tr th:only-of-type {\n        vertical-align: middle;\n    }\n\n    .dataframe tbody tr th {\n        vertical-align: top;\n    }\n\n    .dataframe thead th {\n        text-align: right;\n    }\n</style>\n<table border=\"1\" class=\"dataframe\">\n  <thead>\n    <tr style=\"text-align: right;\">\n      <th></th>\n      <th>name</th>\n      <th>price</th>\n      <th>rating</th>\n      <th>country</th>\n      <th>region</th>\n      <th>sweetness</th>\n      <th>grape</th>\n      <th>manufacturer</th>\n      <th>strength</th>\n      <th>volume</th>\n    </tr>\n  </thead>\n  <tbody>\n    <tr>\n      <th>0</th>\n      <td>Vino Tracer Riesling, Weinkellerei Hechtsheim,...</td>\n      <td>1312.0</td>\n      <td>4.7</td>\n      <td>Germanija</td>\n      <td>Pfal'ts</td>\n      <td>semi-dry</td>\n      <td>risling</td>\n      <td>Weinkellerei Hechtsheim</td>\n      <td>12.0</td>\n      <td>0.75</td>\n    </tr>\n    <tr>\n      <th>1</th>\n      <td>Vino Lighea, Donnafugata, 2021</td>\n      <td>4990.0</td>\n      <td>4.8</td>\n      <td>Italija</td>\n      <td>Sitsilija</td>\n      <td>dry</td>\n      <td>zibibbo</td>\n      <td>Donnafugata</td>\n      <td>12.5</td>\n      <td>0.75</td>\n    </tr>\n    <tr>\n      <th>2</th>\n      <td>Vino Chenin Blanc, David &amp; Nadia, 2022</td>\n      <td>6790.0</td>\n      <td>4.5</td>\n      <td>Juzhnaja Afrika</td>\n      <td>Svortlend</td>\n      <td>dry</td>\n      <td>shenen blan</td>\n      <td>David &amp; Nadia</td>\n      <td>12.5</td>\n      <td>0.75</td>\n    </tr>\n    <tr>\n      <th>3</th>\n      <td>Vino Pinot Noir Alpine Vineyard, Rhys Vineyard...</td>\n      <td>34990.0</td>\n      <td>5.0</td>\n      <td>Soedinennye Shtaty Ameriki</td>\n      <td>Kalifornija</td>\n      <td>dry</td>\n      <td>pino nuar</td>\n      <td>Rhys Vineyards</td>\n      <td>12.9</td>\n      <td>0.75</td>\n    </tr>\n    <tr>\n      <th>4</th>\n      <td>Vino Grain de Gris, Listel, 2022</td>\n      <td>1393.0</td>\n      <td>4.6</td>\n      <td>Frantsija</td>\n      <td>Langedok-Russil'on</td>\n      <td>dry</td>\n      <td>sira</td>\n      <td>Listel</td>\n      <td>12.0</td>\n      <td>0.75</td>\n    </tr>\n  </tbody>\n</table>\n</div>"
     },
     "execution_count": 61,
     "metadata": {},
     "output_type": "execute_result"
    }
   ],
   "source": [
    "def process_grapes(grape: str) -> str:\n",
    "    if grape.endswith(\"%\"):\n",
    "        return ' '.join(grape.split()[:-1])\n",
    "\n",
    "    return grape\n",
    "\n",
    "\n",
    "df[\"grape\"] = df[\"grape\"].map(process_grapes)\n",
    "df.head()"
   ],
   "metadata": {
    "collapsed": false
   }
  },
  {
   "cell_type": "code",
   "execution_count": 62,
   "outputs": [
    {
     "data": {
      "text/plain": "                                                name    price  rating  \\\n0  Vino Tracer Riesling, Weinkellerei Hechtsheim,...   1312.0     4.7   \n1                     Vino Lighea, Donnafugata, 2021   4990.0     4.8   \n2             Vino Chenin Blanc, David & Nadia, 2022   6790.0     4.5   \n3  Vino Pinot Noir Alpine Vineyard, Rhys Vineyard...  34990.0     5.0   \n4                   Vino Grain de Gris, Listel, 2022   1393.0     4.6   \n\n   country_0  country_1  country_2  region_0  region_1  region_2  region_3  \\\n0          0          0          1         0         0         0         1   \n1          0          0          2         0         0         0         2   \n2          0          0          3         0         0         0         3   \n3          0          1          0         0         0         1         0   \n4          0          1          1         0         0         1         1   \n\n   ... grape_1  grape_2  grape_3  manufacturer_0  manufacturer_1  \\\n0  ...       0        0        1               0               0   \n1  ...       0        0        2               0               0   \n2  ...       0        0        3               0               0   \n3  ...       0        1        0               0               0   \n4  ...       0        1        1               0               0   \n\n   manufacturer_2  manufacturer_3  manufacturer_4  strength  volume  \n0               0               0               1      12.0    0.75  \n1               0               0               2      12.5    0.75  \n2               0               0               3      12.5    0.75  \n3               0               1               0      12.9    0.75  \n4               0               1               1      12.0    0.75  \n\n[5 rows x 22 columns]",
      "text/html": "<div>\n<style scoped>\n    .dataframe tbody tr th:only-of-type {\n        vertical-align: middle;\n    }\n\n    .dataframe tbody tr th {\n        vertical-align: top;\n    }\n\n    .dataframe thead th {\n        text-align: right;\n    }\n</style>\n<table border=\"1\" class=\"dataframe\">\n  <thead>\n    <tr style=\"text-align: right;\">\n      <th></th>\n      <th>name</th>\n      <th>price</th>\n      <th>rating</th>\n      <th>country_0</th>\n      <th>country_1</th>\n      <th>country_2</th>\n      <th>region_0</th>\n      <th>region_1</th>\n      <th>region_2</th>\n      <th>region_3</th>\n      <th>...</th>\n      <th>grape_1</th>\n      <th>grape_2</th>\n      <th>grape_3</th>\n      <th>manufacturer_0</th>\n      <th>manufacturer_1</th>\n      <th>manufacturer_2</th>\n      <th>manufacturer_3</th>\n      <th>manufacturer_4</th>\n      <th>strength</th>\n      <th>volume</th>\n    </tr>\n  </thead>\n  <tbody>\n    <tr>\n      <th>0</th>\n      <td>Vino Tracer Riesling, Weinkellerei Hechtsheim,...</td>\n      <td>1312.0</td>\n      <td>4.7</td>\n      <td>0</td>\n      <td>0</td>\n      <td>1</td>\n      <td>0</td>\n      <td>0</td>\n      <td>0</td>\n      <td>1</td>\n      <td>...</td>\n      <td>0</td>\n      <td>0</td>\n      <td>1</td>\n      <td>0</td>\n      <td>0</td>\n      <td>0</td>\n      <td>0</td>\n      <td>1</td>\n      <td>12.0</td>\n      <td>0.75</td>\n    </tr>\n    <tr>\n      <th>1</th>\n      <td>Vino Lighea, Donnafugata, 2021</td>\n      <td>4990.0</td>\n      <td>4.8</td>\n      <td>0</td>\n      <td>0</td>\n      <td>2</td>\n      <td>0</td>\n      <td>0</td>\n      <td>0</td>\n      <td>2</td>\n      <td>...</td>\n      <td>0</td>\n      <td>0</td>\n      <td>2</td>\n      <td>0</td>\n      <td>0</td>\n      <td>0</td>\n      <td>0</td>\n      <td>2</td>\n      <td>12.5</td>\n      <td>0.75</td>\n    </tr>\n    <tr>\n      <th>2</th>\n      <td>Vino Chenin Blanc, David &amp; Nadia, 2022</td>\n      <td>6790.0</td>\n      <td>4.5</td>\n      <td>0</td>\n      <td>0</td>\n      <td>3</td>\n      <td>0</td>\n      <td>0</td>\n      <td>0</td>\n      <td>3</td>\n      <td>...</td>\n      <td>0</td>\n      <td>0</td>\n      <td>3</td>\n      <td>0</td>\n      <td>0</td>\n      <td>0</td>\n      <td>0</td>\n      <td>3</td>\n      <td>12.5</td>\n      <td>0.75</td>\n    </tr>\n    <tr>\n      <th>3</th>\n      <td>Vino Pinot Noir Alpine Vineyard, Rhys Vineyard...</td>\n      <td>34990.0</td>\n      <td>5.0</td>\n      <td>0</td>\n      <td>1</td>\n      <td>0</td>\n      <td>0</td>\n      <td>0</td>\n      <td>1</td>\n      <td>0</td>\n      <td>...</td>\n      <td>0</td>\n      <td>1</td>\n      <td>0</td>\n      <td>0</td>\n      <td>0</td>\n      <td>0</td>\n      <td>1</td>\n      <td>0</td>\n      <td>12.9</td>\n      <td>0.75</td>\n    </tr>\n    <tr>\n      <th>4</th>\n      <td>Vino Grain de Gris, Listel, 2022</td>\n      <td>1393.0</td>\n      <td>4.6</td>\n      <td>0</td>\n      <td>1</td>\n      <td>1</td>\n      <td>0</td>\n      <td>0</td>\n      <td>1</td>\n      <td>1</td>\n      <td>...</td>\n      <td>0</td>\n      <td>1</td>\n      <td>1</td>\n      <td>0</td>\n      <td>0</td>\n      <td>0</td>\n      <td>1</td>\n      <td>1</td>\n      <td>12.0</td>\n      <td>0.75</td>\n    </tr>\n  </tbody>\n</table>\n<p>5 rows × 22 columns</p>\n</div>"
     },
     "execution_count": 62,
     "metadata": {},
     "output_type": "execute_result"
    }
   ],
   "source": [
    "import category_encoders\n",
    "\n",
    "encoder = category_encoders.BaseNEncoder(base = 4, cols = ['country', 'region', 'grape', 'manufacturer']).fit(df)\n",
    "df = encoder.transform(df)\n",
    "df.head()"
   ],
   "metadata": {
    "collapsed": false
   }
  },
  {
   "cell_type": "code",
   "execution_count": 63,
   "outputs": [
    {
     "data": {
      "text/plain": "                                                name     price  rating  \\\n0  Vino Tracer Riesling, Weinkellerei Hechtsheim,... -0.229692     4.7   \n1                     Vino Lighea, Donnafugata, 2021 -0.180184     4.8   \n2             Vino Chenin Blanc, David & Nadia, 2022 -0.155955     4.5   \n3  Vino Pinot Noir Alpine Vineyard, Rhys Vineyard...  0.223636     5.0   \n4                   Vino Grain de Gris, Listel, 2022 -0.228602     4.6   \n5  Vino Volnay Premier Cru Clos des Chenes, Domai...  0.068839     5.0   \n6  Vino Tenuta Regaleali Cygnus, Tasca d'Almerita... -0.186914     4.5   \n7  Vino Bordeaux des Iles, Domaine de l'Ile Marga... -0.173454     5.0   \n8  Vino Riesling Kastelberg Grand Cru Le Chateau,... -0.005195     5.0   \n9  Vino Primofiore, Giuseppe Quintarelli, 2021, 1...  0.290940     5.0   \n\n   country_0  country_1  country_2  region_0  region_1  region_2  region_3  \\\n0          0          0          1         0         0         0         1   \n1          0          0          2         0         0         0         2   \n2          0          0          3         0         0         0         3   \n3          0          1          0         0         0         1         0   \n4          0          1          1         0         0         1         1   \n5          0          1          1         0         0         1         2   \n6          0          0          2         0         0         0         2   \n7          0          1          1         0         0         1         3   \n8          0          1          1         0         0         2         0   \n9          0          0          2         0         0         2         1   \n\n   ... grape_1  grape_2  grape_3  manufacturer_0  manufacturer_1  \\\n0  ...       0        0        1               0               0   \n1  ...       0        0        2               0               0   \n2  ...       0        0        3               0               0   \n3  ...       0        1        0               0               0   \n4  ...       0        1        1               0               0   \n5  ...       0        1        0               0               0   \n6  ...       0        1        2               0               0   \n7  ...       0        1        3               0               0   \n8  ...       0        0        1               0               0   \n9  ...       0        2        0               0               0   \n\n   manufacturer_2  manufacturer_3  manufacturer_4  strength    volume  \n0               0               0               1 -1.133567 -0.121366  \n1               0               0               2 -0.695962 -0.121366  \n2               0               0               3 -0.695962 -0.121366  \n3               0               1               0 -0.345878 -0.121366  \n4               0               1               1 -1.133567 -0.121366  \n5               0               1               2  0.616852 -0.121366  \n6               0               1               3  0.616852 -0.121366  \n7               0               2               0  0.179247 -0.121366  \n8               0               2               1 -0.258357 -0.121366  \n9               0               2               2  0.616852  2.631291  \n\n[10 rows x 22 columns]",
      "text/html": "<div>\n<style scoped>\n    .dataframe tbody tr th:only-of-type {\n        vertical-align: middle;\n    }\n\n    .dataframe tbody tr th {\n        vertical-align: top;\n    }\n\n    .dataframe thead th {\n        text-align: right;\n    }\n</style>\n<table border=\"1\" class=\"dataframe\">\n  <thead>\n    <tr style=\"text-align: right;\">\n      <th></th>\n      <th>name</th>\n      <th>price</th>\n      <th>rating</th>\n      <th>country_0</th>\n      <th>country_1</th>\n      <th>country_2</th>\n      <th>region_0</th>\n      <th>region_1</th>\n      <th>region_2</th>\n      <th>region_3</th>\n      <th>...</th>\n      <th>grape_1</th>\n      <th>grape_2</th>\n      <th>grape_3</th>\n      <th>manufacturer_0</th>\n      <th>manufacturer_1</th>\n      <th>manufacturer_2</th>\n      <th>manufacturer_3</th>\n      <th>manufacturer_4</th>\n      <th>strength</th>\n      <th>volume</th>\n    </tr>\n  </thead>\n  <tbody>\n    <tr>\n      <th>0</th>\n      <td>Vino Tracer Riesling, Weinkellerei Hechtsheim,...</td>\n      <td>-0.229692</td>\n      <td>4.7</td>\n      <td>0</td>\n      <td>0</td>\n      <td>1</td>\n      <td>0</td>\n      <td>0</td>\n      <td>0</td>\n      <td>1</td>\n      <td>...</td>\n      <td>0</td>\n      <td>0</td>\n      <td>1</td>\n      <td>0</td>\n      <td>0</td>\n      <td>0</td>\n      <td>0</td>\n      <td>1</td>\n      <td>-1.133567</td>\n      <td>-0.121366</td>\n    </tr>\n    <tr>\n      <th>1</th>\n      <td>Vino Lighea, Donnafugata, 2021</td>\n      <td>-0.180184</td>\n      <td>4.8</td>\n      <td>0</td>\n      <td>0</td>\n      <td>2</td>\n      <td>0</td>\n      <td>0</td>\n      <td>0</td>\n      <td>2</td>\n      <td>...</td>\n      <td>0</td>\n      <td>0</td>\n      <td>2</td>\n      <td>0</td>\n      <td>0</td>\n      <td>0</td>\n      <td>0</td>\n      <td>2</td>\n      <td>-0.695962</td>\n      <td>-0.121366</td>\n    </tr>\n    <tr>\n      <th>2</th>\n      <td>Vino Chenin Blanc, David &amp; Nadia, 2022</td>\n      <td>-0.155955</td>\n      <td>4.5</td>\n      <td>0</td>\n      <td>0</td>\n      <td>3</td>\n      <td>0</td>\n      <td>0</td>\n      <td>0</td>\n      <td>3</td>\n      <td>...</td>\n      <td>0</td>\n      <td>0</td>\n      <td>3</td>\n      <td>0</td>\n      <td>0</td>\n      <td>0</td>\n      <td>0</td>\n      <td>3</td>\n      <td>-0.695962</td>\n      <td>-0.121366</td>\n    </tr>\n    <tr>\n      <th>3</th>\n      <td>Vino Pinot Noir Alpine Vineyard, Rhys Vineyard...</td>\n      <td>0.223636</td>\n      <td>5.0</td>\n      <td>0</td>\n      <td>1</td>\n      <td>0</td>\n      <td>0</td>\n      <td>0</td>\n      <td>1</td>\n      <td>0</td>\n      <td>...</td>\n      <td>0</td>\n      <td>1</td>\n      <td>0</td>\n      <td>0</td>\n      <td>0</td>\n      <td>0</td>\n      <td>1</td>\n      <td>0</td>\n      <td>-0.345878</td>\n      <td>-0.121366</td>\n    </tr>\n    <tr>\n      <th>4</th>\n      <td>Vino Grain de Gris, Listel, 2022</td>\n      <td>-0.228602</td>\n      <td>4.6</td>\n      <td>0</td>\n      <td>1</td>\n      <td>1</td>\n      <td>0</td>\n      <td>0</td>\n      <td>1</td>\n      <td>1</td>\n      <td>...</td>\n      <td>0</td>\n      <td>1</td>\n      <td>1</td>\n      <td>0</td>\n      <td>0</td>\n      <td>0</td>\n      <td>1</td>\n      <td>1</td>\n      <td>-1.133567</td>\n      <td>-0.121366</td>\n    </tr>\n    <tr>\n      <th>5</th>\n      <td>Vino Volnay Premier Cru Clos des Chenes, Domai...</td>\n      <td>0.068839</td>\n      <td>5.0</td>\n      <td>0</td>\n      <td>1</td>\n      <td>1</td>\n      <td>0</td>\n      <td>0</td>\n      <td>1</td>\n      <td>2</td>\n      <td>...</td>\n      <td>0</td>\n      <td>1</td>\n      <td>0</td>\n      <td>0</td>\n      <td>0</td>\n      <td>0</td>\n      <td>1</td>\n      <td>2</td>\n      <td>0.616852</td>\n      <td>-0.121366</td>\n    </tr>\n    <tr>\n      <th>6</th>\n      <td>Vino Tenuta Regaleali Cygnus, Tasca d'Almerita...</td>\n      <td>-0.186914</td>\n      <td>4.5</td>\n      <td>0</td>\n      <td>0</td>\n      <td>2</td>\n      <td>0</td>\n      <td>0</td>\n      <td>0</td>\n      <td>2</td>\n      <td>...</td>\n      <td>0</td>\n      <td>1</td>\n      <td>2</td>\n      <td>0</td>\n      <td>0</td>\n      <td>0</td>\n      <td>1</td>\n      <td>3</td>\n      <td>0.616852</td>\n      <td>-0.121366</td>\n    </tr>\n    <tr>\n      <th>7</th>\n      <td>Vino Bordeaux des Iles, Domaine de l'Ile Marga...</td>\n      <td>-0.173454</td>\n      <td>5.0</td>\n      <td>0</td>\n      <td>1</td>\n      <td>1</td>\n      <td>0</td>\n      <td>0</td>\n      <td>1</td>\n      <td>3</td>\n      <td>...</td>\n      <td>0</td>\n      <td>1</td>\n      <td>3</td>\n      <td>0</td>\n      <td>0</td>\n      <td>0</td>\n      <td>2</td>\n      <td>0</td>\n      <td>0.179247</td>\n      <td>-0.121366</td>\n    </tr>\n    <tr>\n      <th>8</th>\n      <td>Vino Riesling Kastelberg Grand Cru Le Chateau,...</td>\n      <td>-0.005195</td>\n      <td>5.0</td>\n      <td>0</td>\n      <td>1</td>\n      <td>1</td>\n      <td>0</td>\n      <td>0</td>\n      <td>2</td>\n      <td>0</td>\n      <td>...</td>\n      <td>0</td>\n      <td>0</td>\n      <td>1</td>\n      <td>0</td>\n      <td>0</td>\n      <td>0</td>\n      <td>2</td>\n      <td>1</td>\n      <td>-0.258357</td>\n      <td>-0.121366</td>\n    </tr>\n    <tr>\n      <th>9</th>\n      <td>Vino Primofiore, Giuseppe Quintarelli, 2021, 1...</td>\n      <td>0.290940</td>\n      <td>5.0</td>\n      <td>0</td>\n      <td>0</td>\n      <td>2</td>\n      <td>0</td>\n      <td>0</td>\n      <td>2</td>\n      <td>1</td>\n      <td>...</td>\n      <td>0</td>\n      <td>2</td>\n      <td>0</td>\n      <td>0</td>\n      <td>0</td>\n      <td>0</td>\n      <td>2</td>\n      <td>2</td>\n      <td>0.616852</td>\n      <td>2.631291</td>\n    </tr>\n  </tbody>\n</table>\n<p>10 rows × 22 columns</p>\n</div>"
     },
     "execution_count": 63,
     "metadata": {},
     "output_type": "execute_result"
    }
   ],
   "source": [
    "for column in [\"price\", \"strength\", \"volume\"]:\n",
    "    df[column] = (df[column] - df[column].mean()) / df[column].std()\n",
    "\n",
    "df.head(10)"
   ],
   "metadata": {
    "collapsed": false
   }
  },
  {
   "cell_type": "code",
   "execution_count": 64,
   "outputs": [
    {
     "data": {
      "text/plain": "{'semi-dry': 0, 'dry': 1, 'sweet': 2, 'semi-sweet': 3}"
     },
     "execution_count": 64,
     "metadata": {},
     "output_type": "execute_result"
    }
   ],
   "source": [
    "sweetness_types = { sweet: idx for (idx, sweet) in enumerate(list(df['sweetness'].unique())) }\n",
    "sweetness_types"
   ],
   "metadata": {
    "collapsed": false
   }
  },
  {
   "cell_type": "code",
   "execution_count": 65,
   "outputs": [
    {
     "data": {
      "text/plain": "                                                name     price  rating  \\\n0  Vino Tracer Riesling, Weinkellerei Hechtsheim,... -0.229692     4.7   \n1                     Vino Lighea, Donnafugata, 2021 -0.180184     4.8   \n2             Vino Chenin Blanc, David & Nadia, 2022 -0.155955     4.5   \n3  Vino Pinot Noir Alpine Vineyard, Rhys Vineyard...  0.223636     5.0   \n4                   Vino Grain de Gris, Listel, 2022 -0.228602     4.6   \n\n   country_0  country_1  country_2  region_0  region_1  region_2  region_3  \\\n0          0          0          1         0         0         0         1   \n1          0          0          2         0         0         0         2   \n2          0          0          3         0         0         0         3   \n3          0          1          0         0         0         1         0   \n4          0          1          1         0         0         1         1   \n\n   ...  grape_1  grape_2  grape_3  manufacturer_0  manufacturer_1  \\\n0  ...        0        0        1               0               0   \n1  ...        0        0        2               0               0   \n2  ...        0        0        3               0               0   \n3  ...        0        1        0               0               0   \n4  ...        0        1        1               0               0   \n\n   manufacturer_2  manufacturer_3  manufacturer_4  strength    volume  \n0               0               0               1 -1.133567 -0.121366  \n1               0               0               2 -0.695962 -0.121366  \n2               0               0               3 -0.695962 -0.121366  \n3               0               1               0 -0.345878 -0.121366  \n4               0               1               1 -1.133567 -0.121366  \n\n[5 rows x 22 columns]",
      "text/html": "<div>\n<style scoped>\n    .dataframe tbody tr th:only-of-type {\n        vertical-align: middle;\n    }\n\n    .dataframe tbody tr th {\n        vertical-align: top;\n    }\n\n    .dataframe thead th {\n        text-align: right;\n    }\n</style>\n<table border=\"1\" class=\"dataframe\">\n  <thead>\n    <tr style=\"text-align: right;\">\n      <th></th>\n      <th>name</th>\n      <th>price</th>\n      <th>rating</th>\n      <th>country_0</th>\n      <th>country_1</th>\n      <th>country_2</th>\n      <th>region_0</th>\n      <th>region_1</th>\n      <th>region_2</th>\n      <th>region_3</th>\n      <th>...</th>\n      <th>grape_1</th>\n      <th>grape_2</th>\n      <th>grape_3</th>\n      <th>manufacturer_0</th>\n      <th>manufacturer_1</th>\n      <th>manufacturer_2</th>\n      <th>manufacturer_3</th>\n      <th>manufacturer_4</th>\n      <th>strength</th>\n      <th>volume</th>\n    </tr>\n  </thead>\n  <tbody>\n    <tr>\n      <th>0</th>\n      <td>Vino Tracer Riesling, Weinkellerei Hechtsheim,...</td>\n      <td>-0.229692</td>\n      <td>4.7</td>\n      <td>0</td>\n      <td>0</td>\n      <td>1</td>\n      <td>0</td>\n      <td>0</td>\n      <td>0</td>\n      <td>1</td>\n      <td>...</td>\n      <td>0</td>\n      <td>0</td>\n      <td>1</td>\n      <td>0</td>\n      <td>0</td>\n      <td>0</td>\n      <td>0</td>\n      <td>1</td>\n      <td>-1.133567</td>\n      <td>-0.121366</td>\n    </tr>\n    <tr>\n      <th>1</th>\n      <td>Vino Lighea, Donnafugata, 2021</td>\n      <td>-0.180184</td>\n      <td>4.8</td>\n      <td>0</td>\n      <td>0</td>\n      <td>2</td>\n      <td>0</td>\n      <td>0</td>\n      <td>0</td>\n      <td>2</td>\n      <td>...</td>\n      <td>0</td>\n      <td>0</td>\n      <td>2</td>\n      <td>0</td>\n      <td>0</td>\n      <td>0</td>\n      <td>0</td>\n      <td>2</td>\n      <td>-0.695962</td>\n      <td>-0.121366</td>\n    </tr>\n    <tr>\n      <th>2</th>\n      <td>Vino Chenin Blanc, David &amp; Nadia, 2022</td>\n      <td>-0.155955</td>\n      <td>4.5</td>\n      <td>0</td>\n      <td>0</td>\n      <td>3</td>\n      <td>0</td>\n      <td>0</td>\n      <td>0</td>\n      <td>3</td>\n      <td>...</td>\n      <td>0</td>\n      <td>0</td>\n      <td>3</td>\n      <td>0</td>\n      <td>0</td>\n      <td>0</td>\n      <td>0</td>\n      <td>3</td>\n      <td>-0.695962</td>\n      <td>-0.121366</td>\n    </tr>\n    <tr>\n      <th>3</th>\n      <td>Vino Pinot Noir Alpine Vineyard, Rhys Vineyard...</td>\n      <td>0.223636</td>\n      <td>5.0</td>\n      <td>0</td>\n      <td>1</td>\n      <td>0</td>\n      <td>0</td>\n      <td>0</td>\n      <td>1</td>\n      <td>0</td>\n      <td>...</td>\n      <td>0</td>\n      <td>1</td>\n      <td>0</td>\n      <td>0</td>\n      <td>0</td>\n      <td>0</td>\n      <td>1</td>\n      <td>0</td>\n      <td>-0.345878</td>\n      <td>-0.121366</td>\n    </tr>\n    <tr>\n      <th>4</th>\n      <td>Vino Grain de Gris, Listel, 2022</td>\n      <td>-0.228602</td>\n      <td>4.6</td>\n      <td>0</td>\n      <td>1</td>\n      <td>1</td>\n      <td>0</td>\n      <td>0</td>\n      <td>1</td>\n      <td>1</td>\n      <td>...</td>\n      <td>0</td>\n      <td>1</td>\n      <td>1</td>\n      <td>0</td>\n      <td>0</td>\n      <td>0</td>\n      <td>1</td>\n      <td>1</td>\n      <td>-1.133567</td>\n      <td>-0.121366</td>\n    </tr>\n  </tbody>\n</table>\n<p>5 rows × 22 columns</p>\n</div>"
     },
     "execution_count": 65,
     "metadata": {},
     "output_type": "execute_result"
    }
   ],
   "source": [
    "df['sweetness'] = df['sweetness'].map(lambda x: sweetness_types[x])\n",
    "df.head()"
   ],
   "metadata": {
    "collapsed": false
   }
  },
  {
   "cell_type": "code",
   "execution_count": 66,
   "outputs": [
    {
     "data": {
      "text/plain": "array([0.  , 4.  , 4.48, 4.6 , 4.9 , 5.  ])"
     },
     "execution_count": 66,
     "metadata": {},
     "output_type": "execute_result"
    }
   ],
   "source": [
    "nbins = 5\n",
    "df['rating'], bins = pd.qcut(df['rating'], q=nbins, labels=False, retbins=True)\n",
    "\n",
    "bins"
   ],
   "metadata": {
    "collapsed": false
   }
  },
  {
   "cell_type": "code",
   "execution_count": 67,
   "outputs": [
    {
     "data": {
      "text/plain": "rating\n0    773\n2    733\n3    732\n1    602\n4    598\nName: count, dtype: int64"
     },
     "execution_count": 67,
     "metadata": {},
     "output_type": "execute_result"
    }
   ],
   "source": [
    "df['rating'].value_counts()"
   ],
   "metadata": {
    "collapsed": false
   }
  },
  {
   "cell_type": "code",
   "execution_count": 68,
   "outputs": [
    {
     "data": {
      "text/plain": "                                                name     price  rating  \\\n0  Vino Tracer Riesling, Weinkellerei Hechtsheim,... -0.229692       3   \n1                     Vino Lighea, Donnafugata, 2021 -0.180184       3   \n2             Vino Chenin Blanc, David & Nadia, 2022 -0.155955       2   \n3  Vino Pinot Noir Alpine Vineyard, Rhys Vineyard...  0.223636       4   \n4                   Vino Grain de Gris, Listel, 2022 -0.228602       2   \n\n   country_0  country_1  country_2  region_0  region_1  region_2  region_3  \\\n0          0          0          1         0         0         0         1   \n1          0          0          2         0         0         0         2   \n2          0          0          3         0         0         0         3   \n3          0          1          0         0         0         1         0   \n4          0          1          1         0         0         1         1   \n\n   ...  grape_1  grape_2  grape_3  manufacturer_0  manufacturer_1  \\\n0  ...        0        0        1               0               0   \n1  ...        0        0        2               0               0   \n2  ...        0        0        3               0               0   \n3  ...        0        1        0               0               0   \n4  ...        0        1        1               0               0   \n\n   manufacturer_2  manufacturer_3  manufacturer_4  strength    volume  \n0               0               0               1 -1.133567 -0.121366  \n1               0               0               2 -0.695962 -0.121366  \n2               0               0               3 -0.695962 -0.121366  \n3               0               1               0 -0.345878 -0.121366  \n4               0               1               1 -1.133567 -0.121366  \n\n[5 rows x 22 columns]",
      "text/html": "<div>\n<style scoped>\n    .dataframe tbody tr th:only-of-type {\n        vertical-align: middle;\n    }\n\n    .dataframe tbody tr th {\n        vertical-align: top;\n    }\n\n    .dataframe thead th {\n        text-align: right;\n    }\n</style>\n<table border=\"1\" class=\"dataframe\">\n  <thead>\n    <tr style=\"text-align: right;\">\n      <th></th>\n      <th>name</th>\n      <th>price</th>\n      <th>rating</th>\n      <th>country_0</th>\n      <th>country_1</th>\n      <th>country_2</th>\n      <th>region_0</th>\n      <th>region_1</th>\n      <th>region_2</th>\n      <th>region_3</th>\n      <th>...</th>\n      <th>grape_1</th>\n      <th>grape_2</th>\n      <th>grape_3</th>\n      <th>manufacturer_0</th>\n      <th>manufacturer_1</th>\n      <th>manufacturer_2</th>\n      <th>manufacturer_3</th>\n      <th>manufacturer_4</th>\n      <th>strength</th>\n      <th>volume</th>\n    </tr>\n  </thead>\n  <tbody>\n    <tr>\n      <th>0</th>\n      <td>Vino Tracer Riesling, Weinkellerei Hechtsheim,...</td>\n      <td>-0.229692</td>\n      <td>3</td>\n      <td>0</td>\n      <td>0</td>\n      <td>1</td>\n      <td>0</td>\n      <td>0</td>\n      <td>0</td>\n      <td>1</td>\n      <td>...</td>\n      <td>0</td>\n      <td>0</td>\n      <td>1</td>\n      <td>0</td>\n      <td>0</td>\n      <td>0</td>\n      <td>0</td>\n      <td>1</td>\n      <td>-1.133567</td>\n      <td>-0.121366</td>\n    </tr>\n    <tr>\n      <th>1</th>\n      <td>Vino Lighea, Donnafugata, 2021</td>\n      <td>-0.180184</td>\n      <td>3</td>\n      <td>0</td>\n      <td>0</td>\n      <td>2</td>\n      <td>0</td>\n      <td>0</td>\n      <td>0</td>\n      <td>2</td>\n      <td>...</td>\n      <td>0</td>\n      <td>0</td>\n      <td>2</td>\n      <td>0</td>\n      <td>0</td>\n      <td>0</td>\n      <td>0</td>\n      <td>2</td>\n      <td>-0.695962</td>\n      <td>-0.121366</td>\n    </tr>\n    <tr>\n      <th>2</th>\n      <td>Vino Chenin Blanc, David &amp; Nadia, 2022</td>\n      <td>-0.155955</td>\n      <td>2</td>\n      <td>0</td>\n      <td>0</td>\n      <td>3</td>\n      <td>0</td>\n      <td>0</td>\n      <td>0</td>\n      <td>3</td>\n      <td>...</td>\n      <td>0</td>\n      <td>0</td>\n      <td>3</td>\n      <td>0</td>\n      <td>0</td>\n      <td>0</td>\n      <td>0</td>\n      <td>3</td>\n      <td>-0.695962</td>\n      <td>-0.121366</td>\n    </tr>\n    <tr>\n      <th>3</th>\n      <td>Vino Pinot Noir Alpine Vineyard, Rhys Vineyard...</td>\n      <td>0.223636</td>\n      <td>4</td>\n      <td>0</td>\n      <td>1</td>\n      <td>0</td>\n      <td>0</td>\n      <td>0</td>\n      <td>1</td>\n      <td>0</td>\n      <td>...</td>\n      <td>0</td>\n      <td>1</td>\n      <td>0</td>\n      <td>0</td>\n      <td>0</td>\n      <td>0</td>\n      <td>1</td>\n      <td>0</td>\n      <td>-0.345878</td>\n      <td>-0.121366</td>\n    </tr>\n    <tr>\n      <th>4</th>\n      <td>Vino Grain de Gris, Listel, 2022</td>\n      <td>-0.228602</td>\n      <td>2</td>\n      <td>0</td>\n      <td>1</td>\n      <td>1</td>\n      <td>0</td>\n      <td>0</td>\n      <td>1</td>\n      <td>1</td>\n      <td>...</td>\n      <td>0</td>\n      <td>1</td>\n      <td>1</td>\n      <td>0</td>\n      <td>0</td>\n      <td>0</td>\n      <td>1</td>\n      <td>1</td>\n      <td>-1.133567</td>\n      <td>-0.121366</td>\n    </tr>\n  </tbody>\n</table>\n<p>5 rows × 22 columns</p>\n</div>"
     },
     "execution_count": 68,
     "metadata": {},
     "output_type": "execute_result"
    }
   ],
   "source": [
    "df.head()"
   ],
   "metadata": {
    "collapsed": false
   }
  },
  {
   "cell_type": "code",
   "execution_count": 69,
   "outputs": [],
   "source": [
    "from sklearn.model_selection import train_test_split\n",
    "\n",
    "\n",
    "X = df.drop([\"name\", \"rating\"], axis=1)\n",
    "y = df[\"rating\"]"
   ],
   "metadata": {
    "collapsed": false
   }
  },
  {
   "cell_type": "code",
   "execution_count": 70,
   "outputs": [
    {
     "data": {
      "text/plain": "      price  country_0  country_1  country_2  region_0  region_1  region_2  \\\n0 -0.229692          0          0          1         0         0         0   \n1 -0.180184          0          0          2         0         0         0   \n2 -0.155955          0          0          3         0         0         0   \n3  0.223636          0          1          0         0         0         1   \n4 -0.228602          0          1          1         0         0         1   \n\n   region_3  sweetness  grape_0  grape_1  grape_2  grape_3  manufacturer_0  \\\n0         1          0        0        0        0        1               0   \n1         2          1        0        0        0        2               0   \n2         3          1        0        0        0        3               0   \n3         0          1        0        0        1        0               0   \n4         1          1        0        0        1        1               0   \n\n   manufacturer_1  manufacturer_2  manufacturer_3  manufacturer_4  strength  \\\n0               0               0               0               1 -1.133567   \n1               0               0               0               2 -0.695962   \n2               0               0               0               3 -0.695962   \n3               0               0               1               0 -0.345878   \n4               0               0               1               1 -1.133567   \n\n     volume  \n0 -0.121366  \n1 -0.121366  \n2 -0.121366  \n3 -0.121366  \n4 -0.121366  ",
      "text/html": "<div>\n<style scoped>\n    .dataframe tbody tr th:only-of-type {\n        vertical-align: middle;\n    }\n\n    .dataframe tbody tr th {\n        vertical-align: top;\n    }\n\n    .dataframe thead th {\n        text-align: right;\n    }\n</style>\n<table border=\"1\" class=\"dataframe\">\n  <thead>\n    <tr style=\"text-align: right;\">\n      <th></th>\n      <th>price</th>\n      <th>country_0</th>\n      <th>country_1</th>\n      <th>country_2</th>\n      <th>region_0</th>\n      <th>region_1</th>\n      <th>region_2</th>\n      <th>region_3</th>\n      <th>sweetness</th>\n      <th>grape_0</th>\n      <th>grape_1</th>\n      <th>grape_2</th>\n      <th>grape_3</th>\n      <th>manufacturer_0</th>\n      <th>manufacturer_1</th>\n      <th>manufacturer_2</th>\n      <th>manufacturer_3</th>\n      <th>manufacturer_4</th>\n      <th>strength</th>\n      <th>volume</th>\n    </tr>\n  </thead>\n  <tbody>\n    <tr>\n      <th>0</th>\n      <td>-0.229692</td>\n      <td>0</td>\n      <td>0</td>\n      <td>1</td>\n      <td>0</td>\n      <td>0</td>\n      <td>0</td>\n      <td>1</td>\n      <td>0</td>\n      <td>0</td>\n      <td>0</td>\n      <td>0</td>\n      <td>1</td>\n      <td>0</td>\n      <td>0</td>\n      <td>0</td>\n      <td>0</td>\n      <td>1</td>\n      <td>-1.133567</td>\n      <td>-0.121366</td>\n    </tr>\n    <tr>\n      <th>1</th>\n      <td>-0.180184</td>\n      <td>0</td>\n      <td>0</td>\n      <td>2</td>\n      <td>0</td>\n      <td>0</td>\n      <td>0</td>\n      <td>2</td>\n      <td>1</td>\n      <td>0</td>\n      <td>0</td>\n      <td>0</td>\n      <td>2</td>\n      <td>0</td>\n      <td>0</td>\n      <td>0</td>\n      <td>0</td>\n      <td>2</td>\n      <td>-0.695962</td>\n      <td>-0.121366</td>\n    </tr>\n    <tr>\n      <th>2</th>\n      <td>-0.155955</td>\n      <td>0</td>\n      <td>0</td>\n      <td>3</td>\n      <td>0</td>\n      <td>0</td>\n      <td>0</td>\n      <td>3</td>\n      <td>1</td>\n      <td>0</td>\n      <td>0</td>\n      <td>0</td>\n      <td>3</td>\n      <td>0</td>\n      <td>0</td>\n      <td>0</td>\n      <td>0</td>\n      <td>3</td>\n      <td>-0.695962</td>\n      <td>-0.121366</td>\n    </tr>\n    <tr>\n      <th>3</th>\n      <td>0.223636</td>\n      <td>0</td>\n      <td>1</td>\n      <td>0</td>\n      <td>0</td>\n      <td>0</td>\n      <td>1</td>\n      <td>0</td>\n      <td>1</td>\n      <td>0</td>\n      <td>0</td>\n      <td>1</td>\n      <td>0</td>\n      <td>0</td>\n      <td>0</td>\n      <td>0</td>\n      <td>1</td>\n      <td>0</td>\n      <td>-0.345878</td>\n      <td>-0.121366</td>\n    </tr>\n    <tr>\n      <th>4</th>\n      <td>-0.228602</td>\n      <td>0</td>\n      <td>1</td>\n      <td>1</td>\n      <td>0</td>\n      <td>0</td>\n      <td>1</td>\n      <td>1</td>\n      <td>1</td>\n      <td>0</td>\n      <td>0</td>\n      <td>1</td>\n      <td>1</td>\n      <td>0</td>\n      <td>0</td>\n      <td>0</td>\n      <td>1</td>\n      <td>1</td>\n      <td>-1.133567</td>\n      <td>-0.121366</td>\n    </tr>\n  </tbody>\n</table>\n</div>"
     },
     "execution_count": 70,
     "metadata": {},
     "output_type": "execute_result"
    }
   ],
   "source": [
    "X.head()"
   ],
   "metadata": {
    "collapsed": false
   }
  },
  {
   "cell_type": "code",
   "execution_count": 71,
   "outputs": [
    {
     "name": "stdout",
     "output_type": "stream",
     "text": [
      "Identity\n",
      "ReLU\n",
      "Tanh\n"
     ]
    }
   ],
   "source": [
    "X_train, X_test, y_train, y_test = train_test_split(X, y, test_size=0.2)\n",
    "for f in activation_functions:\n",
    "    print(f.name())"
   ],
   "metadata": {
    "collapsed": false
   }
  },
  {
   "cell_type": "code",
   "execution_count": 72,
   "outputs": [
    {
     "data": {
      "text/plain": "(2750, 20)"
     },
     "execution_count": 72,
     "metadata": {},
     "output_type": "execute_result"
    }
   ],
   "source": [
    "X_train.shape"
   ],
   "metadata": {
    "collapsed": false
   }
  },
  {
   "cell_type": "code",
   "execution_count": 73,
   "outputs": [
    {
     "name": "stdout",
     "output_type": "stream",
     "text": [
      "Epoch: 0, loss: 182779.20468186727\n",
      "Epoch: 100, loss: 182779.20468186727\n",
      "Epoch: 200, loss: 182779.20468186727\n",
      "Epoch: 300, loss: 182779.20468186727\n",
      "Epoch: 400, loss: 182779.20468186727\n",
      "Epoch: 500, loss: 182779.20468186727\n",
      "Epoch: 600, loss: 182779.20468186727\n",
      "Epoch: 700, loss: 182779.20468186727\n",
      "Epoch: 800, loss: 182779.20468186727\n",
      "Epoch: 900, loss: 182779.20468186727\n"
     ]
    }
   ],
   "source": [
    "layers = [\n",
    "    Layer(X_train.shape[1], 15, activation_functions[2]),\n",
    "    Layer(15, 10, activation_functions[1]),\n",
    "    Layer(10, 5, activation_functions[2]),\n",
    "    Layer(5, 1, activation_functions[1])\n",
    "]\n",
    "\n",
    "network = Network(layers, 0.15, 1000)\n",
    "y_pred = network.train(X_train.to_numpy(), y_train.to_numpy())\n"
   ],
   "metadata": {
    "collapsed": false
   }
  },
  {
   "cell_type": "code",
   "execution_count": 74,
   "outputs": [
    {
     "name": "stdout",
     "output_type": "stream",
     "text": [
      "[[0.]\n",
      " [0.]\n",
      " [0.]\n",
      " ...\n",
      " [0.]\n",
      " [0.]\n",
      " [0.]]\n"
     ]
    }
   ],
   "source": [
    "print(y_pred)"
   ],
   "metadata": {
    "collapsed": false
   }
  },
  {
   "cell_type": "code",
   "execution_count": 76,
   "outputs": [
    {
     "name": "stdout",
     "output_type": "stream",
     "text": [
      "F-score: 0.228\n"
     ]
    }
   ],
   "source": [
    "from sklearn.metrics import f1_score\n",
    "\n",
    "score = f1_score(y_train, y_pred, average=\"micro\")\n",
    "print(f\"F-score: {score}\")"
   ],
   "metadata": {
    "collapsed": false
   }
  },
  {
   "cell_type": "code",
   "execution_count": null,
   "outputs": [],
   "source": [],
   "metadata": {
    "collapsed": false
   }
  }
 ],
 "metadata": {
  "kernelspec": {
   "display_name": "Python 3",
   "language": "python",
   "name": "python3"
  },
  "language_info": {
   "codemirror_mode": {
    "name": "ipython",
    "version": 2
   },
   "file_extension": ".py",
   "mimetype": "text/x-python",
   "name": "python",
   "nbconvert_exporter": "python",
   "pygments_lexer": "ipython2",
   "version": "2.7.6"
  }
 },
 "nbformat": 4,
 "nbformat_minor": 0
}
