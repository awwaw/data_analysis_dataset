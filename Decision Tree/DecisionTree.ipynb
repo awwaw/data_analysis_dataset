{
 "cells": [
  {
   "cell_type": "code",
   "execution_count": 315,
   "metadata": {
    "collapsed": true
   },
   "outputs": [],
   "source": [
    "import pandas as pd\n",
    "import numpy as np"
   ]
  },
  {
   "cell_type": "code",
   "execution_count": 316,
   "outputs": [
    {
     "data": {
      "text/plain": "                                                name    price  rating  \\\n0  Vino Tracer Riesling, Weinkellerei Hechtsheim,...   1312.0     4.7   \n1                     Vino Lighea, Donnafugata, 2021   4990.0     4.8   \n2             Vino Chenin Blanc, David & Nadia, 2022   6790.0     4.5   \n3  Vino Pinot Noir Alpine Vineyard, Rhys Vineyard...  34990.0     5.0   \n4                   Vino Grain de Gris, Listel, 2022   1393.0     4.6   \n\n                      country              region sweetness             grape  \\\n0                   Germanija             Pfal'ts  semi-dry      risling 100%   \n1                     Italija           Sitsilija       dry      zibibbo 100%   \n2             Juzhnaja Afrika           Svortlend       dry  shenen blan 100%   \n3  Soedinennye Shtaty Ameriki         Kalifornija       dry         pino nuar   \n4                   Frantsija  Langedok-Russil'on       dry              sira   \n\n              manufacturer  strength  volume  \n0  Weinkellerei Hechtsheim      12.0    0.75  \n1              Donnafugata      12.5    0.75  \n2            David & Nadia      12.5    0.75  \n3           Rhys Vineyards      12.9    0.75  \n4                   Listel      12.0    0.75  ",
      "text/html": "<div>\n<style scoped>\n    .dataframe tbody tr th:only-of-type {\n        vertical-align: middle;\n    }\n\n    .dataframe tbody tr th {\n        vertical-align: top;\n    }\n\n    .dataframe thead th {\n        text-align: right;\n    }\n</style>\n<table border=\"1\" class=\"dataframe\">\n  <thead>\n    <tr style=\"text-align: right;\">\n      <th></th>\n      <th>name</th>\n      <th>price</th>\n      <th>rating</th>\n      <th>country</th>\n      <th>region</th>\n      <th>sweetness</th>\n      <th>grape</th>\n      <th>manufacturer</th>\n      <th>strength</th>\n      <th>volume</th>\n    </tr>\n  </thead>\n  <tbody>\n    <tr>\n      <th>0</th>\n      <td>Vino Tracer Riesling, Weinkellerei Hechtsheim,...</td>\n      <td>1312.0</td>\n      <td>4.7</td>\n      <td>Germanija</td>\n      <td>Pfal'ts</td>\n      <td>semi-dry</td>\n      <td>risling 100%</td>\n      <td>Weinkellerei Hechtsheim</td>\n      <td>12.0</td>\n      <td>0.75</td>\n    </tr>\n    <tr>\n      <th>1</th>\n      <td>Vino Lighea, Donnafugata, 2021</td>\n      <td>4990.0</td>\n      <td>4.8</td>\n      <td>Italija</td>\n      <td>Sitsilija</td>\n      <td>dry</td>\n      <td>zibibbo 100%</td>\n      <td>Donnafugata</td>\n      <td>12.5</td>\n      <td>0.75</td>\n    </tr>\n    <tr>\n      <th>2</th>\n      <td>Vino Chenin Blanc, David &amp; Nadia, 2022</td>\n      <td>6790.0</td>\n      <td>4.5</td>\n      <td>Juzhnaja Afrika</td>\n      <td>Svortlend</td>\n      <td>dry</td>\n      <td>shenen blan 100%</td>\n      <td>David &amp; Nadia</td>\n      <td>12.5</td>\n      <td>0.75</td>\n    </tr>\n    <tr>\n      <th>3</th>\n      <td>Vino Pinot Noir Alpine Vineyard, Rhys Vineyard...</td>\n      <td>34990.0</td>\n      <td>5.0</td>\n      <td>Soedinennye Shtaty Ameriki</td>\n      <td>Kalifornija</td>\n      <td>dry</td>\n      <td>pino nuar</td>\n      <td>Rhys Vineyards</td>\n      <td>12.9</td>\n      <td>0.75</td>\n    </tr>\n    <tr>\n      <th>4</th>\n      <td>Vino Grain de Gris, Listel, 2022</td>\n      <td>1393.0</td>\n      <td>4.6</td>\n      <td>Frantsija</td>\n      <td>Langedok-Russil'on</td>\n      <td>dry</td>\n      <td>sira</td>\n      <td>Listel</td>\n      <td>12.0</td>\n      <td>0.75</td>\n    </tr>\n  </tbody>\n</table>\n</div>"
     },
     "execution_count": 316,
     "metadata": {},
     "output_type": "execute_result"
    }
   ],
   "source": [
    "df = pd.read_csv(\"../raw_dataframe.csv\", encoding=\"cp1252\")\n",
    "df.head()"
   ],
   "metadata": {
    "collapsed": false
   }
  },
  {
   "cell_type": "code",
   "execution_count": 317,
   "outputs": [],
   "source": [
    "df.dropna(inplace=True)"
   ],
   "metadata": {
    "collapsed": false
   }
  },
  {
   "cell_type": "code",
   "execution_count": 318,
   "outputs": [
    {
     "data": {
      "text/plain": "0        risling 100%\n1        zibibbo 100%\n2    shenen blan 100%\n3           pino nuar\n4                sira\nName: grape, dtype: object"
     },
     "execution_count": 318,
     "metadata": {},
     "output_type": "execute_result"
    }
   ],
   "source": [
    "df[\"grape\"].head()"
   ],
   "metadata": {
    "collapsed": false
   }
  },
  {
   "cell_type": "code",
   "execution_count": 319,
   "outputs": [
    {
     "data": {
      "text/plain": "                                                name    price  rating  \\\n0  Vino Tracer Riesling, Weinkellerei Hechtsheim,...   1312.0     4.7   \n1                     Vino Lighea, Donnafugata, 2021   4990.0     4.8   \n2             Vino Chenin Blanc, David & Nadia, 2022   6790.0     4.5   \n3  Vino Pinot Noir Alpine Vineyard, Rhys Vineyard...  34990.0     5.0   \n4                   Vino Grain de Gris, Listel, 2022   1393.0     4.6   \n\n                      country              region sweetness        grape  \\\n0                   Germanija             Pfal'ts  semi-dry      risling   \n1                     Italija           Sitsilija       dry      zibibbo   \n2             Juzhnaja Afrika           Svortlend       dry  shenen blan   \n3  Soedinennye Shtaty Ameriki         Kalifornija       dry    pino nuar   \n4                   Frantsija  Langedok-Russil'on       dry         sira   \n\n              manufacturer  strength  volume  \n0  Weinkellerei Hechtsheim      12.0    0.75  \n1              Donnafugata      12.5    0.75  \n2            David & Nadia      12.5    0.75  \n3           Rhys Vineyards      12.9    0.75  \n4                   Listel      12.0    0.75  ",
      "text/html": "<div>\n<style scoped>\n    .dataframe tbody tr th:only-of-type {\n        vertical-align: middle;\n    }\n\n    .dataframe tbody tr th {\n        vertical-align: top;\n    }\n\n    .dataframe thead th {\n        text-align: right;\n    }\n</style>\n<table border=\"1\" class=\"dataframe\">\n  <thead>\n    <tr style=\"text-align: right;\">\n      <th></th>\n      <th>name</th>\n      <th>price</th>\n      <th>rating</th>\n      <th>country</th>\n      <th>region</th>\n      <th>sweetness</th>\n      <th>grape</th>\n      <th>manufacturer</th>\n      <th>strength</th>\n      <th>volume</th>\n    </tr>\n  </thead>\n  <tbody>\n    <tr>\n      <th>0</th>\n      <td>Vino Tracer Riesling, Weinkellerei Hechtsheim,...</td>\n      <td>1312.0</td>\n      <td>4.7</td>\n      <td>Germanija</td>\n      <td>Pfal'ts</td>\n      <td>semi-dry</td>\n      <td>risling</td>\n      <td>Weinkellerei Hechtsheim</td>\n      <td>12.0</td>\n      <td>0.75</td>\n    </tr>\n    <tr>\n      <th>1</th>\n      <td>Vino Lighea, Donnafugata, 2021</td>\n      <td>4990.0</td>\n      <td>4.8</td>\n      <td>Italija</td>\n      <td>Sitsilija</td>\n      <td>dry</td>\n      <td>zibibbo</td>\n      <td>Donnafugata</td>\n      <td>12.5</td>\n      <td>0.75</td>\n    </tr>\n    <tr>\n      <th>2</th>\n      <td>Vino Chenin Blanc, David &amp; Nadia, 2022</td>\n      <td>6790.0</td>\n      <td>4.5</td>\n      <td>Juzhnaja Afrika</td>\n      <td>Svortlend</td>\n      <td>dry</td>\n      <td>shenen blan</td>\n      <td>David &amp; Nadia</td>\n      <td>12.5</td>\n      <td>0.75</td>\n    </tr>\n    <tr>\n      <th>3</th>\n      <td>Vino Pinot Noir Alpine Vineyard, Rhys Vineyard...</td>\n      <td>34990.0</td>\n      <td>5.0</td>\n      <td>Soedinennye Shtaty Ameriki</td>\n      <td>Kalifornija</td>\n      <td>dry</td>\n      <td>pino nuar</td>\n      <td>Rhys Vineyards</td>\n      <td>12.9</td>\n      <td>0.75</td>\n    </tr>\n    <tr>\n      <th>4</th>\n      <td>Vino Grain de Gris, Listel, 2022</td>\n      <td>1393.0</td>\n      <td>4.6</td>\n      <td>Frantsija</td>\n      <td>Langedok-Russil'on</td>\n      <td>dry</td>\n      <td>sira</td>\n      <td>Listel</td>\n      <td>12.0</td>\n      <td>0.75</td>\n    </tr>\n  </tbody>\n</table>\n</div>"
     },
     "execution_count": 319,
     "metadata": {},
     "output_type": "execute_result"
    }
   ],
   "source": [
    "def process_grapes(grape: str) -> str:\n",
    "    if grape.endswith(\"%\"):\n",
    "        return ' '.join(grape.split()[:-1]).lower()\n",
    "\n",
    "    return grape\n",
    "\n",
    "\n",
    "df[\"grape\"] = df[\"grape\"].map(process_grapes)\n",
    "df.head()"
   ],
   "metadata": {
    "collapsed": false
   }
  },
  {
   "cell_type": "code",
   "execution_count": 320,
   "outputs": [],
   "source": [
    "def get_rating_range(rating: float) -> int:\n",
    "    ranges = [\n",
    "        (0, 1),\n",
    "        (1, 2),\n",
    "        (2, 3),\n",
    "        (3, 4),\n",
    "        (4, 5)\n",
    "    ]\n",
    "\n",
    "    for idx, rang in enumerate(ranges):\n",
    "        if rang[0] <= rating < rang[1]:\n",
    "            return idx + 1\n",
    "\n",
    "    return 5 # last range is closed [4, 5] but others are half-open ( [0, 1) for example)"
   ],
   "metadata": {
    "collapsed": false
   }
  },
  {
   "cell_type": "code",
   "execution_count": 321,
   "outputs": [
    {
     "data": {
      "text/plain": "                                                   name    price  rating  \\\n3540        Vino Primofiore, Giuseppe Quintarelli, 2021  16490.0       5   \n3541                   Vino Villa Solais, Santadi, 2019   2790.0       4   \n3542                        Vino Chateau Ferriere, 2020  12490.0       5   \n3543                       Vino Chateau La Lagune, 2017  12490.0       5   \n3544  Vino Gevrey-Chambertin Clos du Couvent, Domain...  18490.0       1   \n3545  Vino Bourgogne Kimmeridgien, Jean-Marc Brocard...   4290.0       5   \n3546            Vino Riesling Kalkmergel, Knipser, 2021   5490.0       5   \n3547  Vino Pouilly-Fume La Demoiselle de Bourgeois, ...   9490.0       5   \n3548  Vino Semisam Shardone/Sovin'on Blan, Shumrinka...    990.0       5   \n3549  Vino Riesling Ried Loibenberg Smaragd, Emmeric...  13990.0       5   \n\n        country              region sweetness          grape  \\\n3540    Italija              Veneto       dry   kaberne fran   \n3541    Italija           Sardinija       dry        nuragus   \n3542  Frantsija               Bordo       dry   kaberne fran   \n3543  Frantsija               Bordo       dry      pti verdo   \n3544  Frantsija          Burgundija       dry      pino nuar   \n3545  Frantsija          Burgundija       dry       shardone   \n3546  Germanija             Pfal'ts       dry        risling   \n3547  Frantsija        Dolina Luary       dry  sovin'on blan   \n3548    Rossija              Kuban'       dry  sovin'on blan   \n3549   Avstrija  Nizhnjaja Avstrija       dry        risling   \n\n                                   manufacturer  strength  volume  \n3540                       Giuseppe Quintarelli      14.0    0.75  \n3541                                    Santadi      13.0    0.75  \n3542                           Chateau Ferriere      13.5    0.75  \n3543                          Chateau La Lagune      13.5    0.75  \n3544                       Domaine de Varoilles      13.0    0.75  \n3545  Jean-Marc Brocard (Domaine Sainte-Claire)      13.0    0.75  \n3546                                    Knipser      12.5    0.75  \n3547                            Henri Bourgeois      14.0    0.75  \n3548                                  Shumrinka      12.8    0.75  \n3549                             Emmerich Knoll      13.0    0.75  ",
      "text/html": "<div>\n<style scoped>\n    .dataframe tbody tr th:only-of-type {\n        vertical-align: middle;\n    }\n\n    .dataframe tbody tr th {\n        vertical-align: top;\n    }\n\n    .dataframe thead th {\n        text-align: right;\n    }\n</style>\n<table border=\"1\" class=\"dataframe\">\n  <thead>\n    <tr style=\"text-align: right;\">\n      <th></th>\n      <th>name</th>\n      <th>price</th>\n      <th>rating</th>\n      <th>country</th>\n      <th>region</th>\n      <th>sweetness</th>\n      <th>grape</th>\n      <th>manufacturer</th>\n      <th>strength</th>\n      <th>volume</th>\n    </tr>\n  </thead>\n  <tbody>\n    <tr>\n      <th>3540</th>\n      <td>Vino Primofiore, Giuseppe Quintarelli, 2021</td>\n      <td>16490.0</td>\n      <td>5</td>\n      <td>Italija</td>\n      <td>Veneto</td>\n      <td>dry</td>\n      <td>kaberne fran</td>\n      <td>Giuseppe Quintarelli</td>\n      <td>14.0</td>\n      <td>0.75</td>\n    </tr>\n    <tr>\n      <th>3541</th>\n      <td>Vino Villa Solais, Santadi, 2019</td>\n      <td>2790.0</td>\n      <td>4</td>\n      <td>Italija</td>\n      <td>Sardinija</td>\n      <td>dry</td>\n      <td>nuragus</td>\n      <td>Santadi</td>\n      <td>13.0</td>\n      <td>0.75</td>\n    </tr>\n    <tr>\n      <th>3542</th>\n      <td>Vino Chateau Ferriere, 2020</td>\n      <td>12490.0</td>\n      <td>5</td>\n      <td>Frantsija</td>\n      <td>Bordo</td>\n      <td>dry</td>\n      <td>kaberne fran</td>\n      <td>Chateau Ferriere</td>\n      <td>13.5</td>\n      <td>0.75</td>\n    </tr>\n    <tr>\n      <th>3543</th>\n      <td>Vino Chateau La Lagune, 2017</td>\n      <td>12490.0</td>\n      <td>5</td>\n      <td>Frantsija</td>\n      <td>Bordo</td>\n      <td>dry</td>\n      <td>pti verdo</td>\n      <td>Chateau La Lagune</td>\n      <td>13.5</td>\n      <td>0.75</td>\n    </tr>\n    <tr>\n      <th>3544</th>\n      <td>Vino Gevrey-Chambertin Clos du Couvent, Domain...</td>\n      <td>18490.0</td>\n      <td>1</td>\n      <td>Frantsija</td>\n      <td>Burgundija</td>\n      <td>dry</td>\n      <td>pino nuar</td>\n      <td>Domaine de Varoilles</td>\n      <td>13.0</td>\n      <td>0.75</td>\n    </tr>\n    <tr>\n      <th>3545</th>\n      <td>Vino Bourgogne Kimmeridgien, Jean-Marc Brocard...</td>\n      <td>4290.0</td>\n      <td>5</td>\n      <td>Frantsija</td>\n      <td>Burgundija</td>\n      <td>dry</td>\n      <td>shardone</td>\n      <td>Jean-Marc Brocard (Domaine Sainte-Claire)</td>\n      <td>13.0</td>\n      <td>0.75</td>\n    </tr>\n    <tr>\n      <th>3546</th>\n      <td>Vino Riesling Kalkmergel, Knipser, 2021</td>\n      <td>5490.0</td>\n      <td>5</td>\n      <td>Germanija</td>\n      <td>Pfal'ts</td>\n      <td>dry</td>\n      <td>risling</td>\n      <td>Knipser</td>\n      <td>12.5</td>\n      <td>0.75</td>\n    </tr>\n    <tr>\n      <th>3547</th>\n      <td>Vino Pouilly-Fume La Demoiselle de Bourgeois, ...</td>\n      <td>9490.0</td>\n      <td>5</td>\n      <td>Frantsija</td>\n      <td>Dolina Luary</td>\n      <td>dry</td>\n      <td>sovin'on blan</td>\n      <td>Henri Bourgeois</td>\n      <td>14.0</td>\n      <td>0.75</td>\n    </tr>\n    <tr>\n      <th>3548</th>\n      <td>Vino Semisam Shardone/Sovin'on Blan, Shumrinka...</td>\n      <td>990.0</td>\n      <td>5</td>\n      <td>Rossija</td>\n      <td>Kuban'</td>\n      <td>dry</td>\n      <td>sovin'on blan</td>\n      <td>Shumrinka</td>\n      <td>12.8</td>\n      <td>0.75</td>\n    </tr>\n    <tr>\n      <th>3549</th>\n      <td>Vino Riesling Ried Loibenberg Smaragd, Emmeric...</td>\n      <td>13990.0</td>\n      <td>5</td>\n      <td>Avstrija</td>\n      <td>Nizhnjaja Avstrija</td>\n      <td>dry</td>\n      <td>risling</td>\n      <td>Emmerich Knoll</td>\n      <td>13.0</td>\n      <td>0.75</td>\n    </tr>\n  </tbody>\n</table>\n</div>"
     },
     "execution_count": 321,
     "metadata": {},
     "output_type": "execute_result"
    }
   ],
   "source": [
    "df[\"rating\"] = df[\"rating\"].map(get_rating_range)\n",
    "df.tail(10)"
   ],
   "metadata": {
    "collapsed": false
   }
  },
  {
   "cell_type": "code",
   "execution_count": 322,
   "outputs": [],
   "source": [
    "def train_test_split(dataframe: pd.DataFrame, test_size: float = 0.2) -> tuple:\n",
    "    test = dataframe.sample(frac=test_size)\n",
    "    train = dataframe.drop(test.index)\n",
    "    return train, test\n",
    "\n",
    "TARGET = \"rating\""
   ],
   "metadata": {
    "collapsed": false
   }
  },
  {
   "cell_type": "code",
   "execution_count": 323,
   "outputs": [
    {
     "data": {
      "text/plain": "     price  rating                     country       region sweetness  \\\n2   6790.0       5             Juzhnaja Afrika    Svortlend       dry   \n3  34990.0       5  Soedinennye Shtaty Ameriki  Kalifornija       dry   \n5  23490.0       5                   Frantsija   Burgundija       dry   \n6   4490.0       5                     Italija    Sitsilija       dry   \n9  39990.0       5                     Italija       Veneto       dry   \n\n              grape           manufacturer  strength  volume  \n2       shenen blan          David & Nadia      12.5    0.75  \n3         pino nuar         Rhys Vineyards      12.9    0.75  \n5         pino nuar  Domaine Antonin Guyon      14.0    0.75  \n6  kaberne sovin'on       Tasca d'Almerita      14.0    0.75  \n9      kaberne fran   Giuseppe Quintarelli      14.0    1.50  ",
      "text/html": "<div>\n<style scoped>\n    .dataframe tbody tr th:only-of-type {\n        vertical-align: middle;\n    }\n\n    .dataframe tbody tr th {\n        vertical-align: top;\n    }\n\n    .dataframe thead th {\n        text-align: right;\n    }\n</style>\n<table border=\"1\" class=\"dataframe\">\n  <thead>\n    <tr style=\"text-align: right;\">\n      <th></th>\n      <th>price</th>\n      <th>rating</th>\n      <th>country</th>\n      <th>region</th>\n      <th>sweetness</th>\n      <th>grape</th>\n      <th>manufacturer</th>\n      <th>strength</th>\n      <th>volume</th>\n    </tr>\n  </thead>\n  <tbody>\n    <tr>\n      <th>2</th>\n      <td>6790.0</td>\n      <td>5</td>\n      <td>Juzhnaja Afrika</td>\n      <td>Svortlend</td>\n      <td>dry</td>\n      <td>shenen blan</td>\n      <td>David &amp; Nadia</td>\n      <td>12.5</td>\n      <td>0.75</td>\n    </tr>\n    <tr>\n      <th>3</th>\n      <td>34990.0</td>\n      <td>5</td>\n      <td>Soedinennye Shtaty Ameriki</td>\n      <td>Kalifornija</td>\n      <td>dry</td>\n      <td>pino nuar</td>\n      <td>Rhys Vineyards</td>\n      <td>12.9</td>\n      <td>0.75</td>\n    </tr>\n    <tr>\n      <th>5</th>\n      <td>23490.0</td>\n      <td>5</td>\n      <td>Frantsija</td>\n      <td>Burgundija</td>\n      <td>dry</td>\n      <td>pino nuar</td>\n      <td>Domaine Antonin Guyon</td>\n      <td>14.0</td>\n      <td>0.75</td>\n    </tr>\n    <tr>\n      <th>6</th>\n      <td>4490.0</td>\n      <td>5</td>\n      <td>Italija</td>\n      <td>Sitsilija</td>\n      <td>dry</td>\n      <td>kaberne sovin'on</td>\n      <td>Tasca d'Almerita</td>\n      <td>14.0</td>\n      <td>0.75</td>\n    </tr>\n    <tr>\n      <th>9</th>\n      <td>39990.0</td>\n      <td>5</td>\n      <td>Italija</td>\n      <td>Veneto</td>\n      <td>dry</td>\n      <td>kaberne fran</td>\n      <td>Giuseppe Quintarelli</td>\n      <td>14.0</td>\n      <td>1.50</td>\n    </tr>\n  </tbody>\n</table>\n</div>"
     },
     "execution_count": 323,
     "metadata": {},
     "output_type": "execute_result"
    }
   ],
   "source": [
    "train, test = train_test_split(df.drop([\"name\"], axis=1))\n",
    "train.head()"
   ],
   "metadata": {
    "collapsed": false
   }
  },
  {
   "cell_type": "code",
   "execution_count": 324,
   "outputs": [
    {
     "data": {
      "text/plain": "       price  rating          country       region sweetness          grape  \\\n1908  3490.0       5          Rossija       Kuban'       dry     krasnostop   \n1050  9490.0       5        Frantsija   Burgundija       dry       shardone   \n1510  1343.0       5  Juzhnaja Afrika  Stellenbosh       dry          merlo   \n734   6790.0       1        Frantsija        Bordo       dry   kaberne fran   \n2006  2240.0       5          Italija       Veneto  semi-dry  pino gridzhio   \n\n                 manufacturer  strength  volume  \n1908    Galitskij i Galitskij      13.0    0.75  \n1050            William Fevre      12.5    0.75  \n1510                 Simonsig      13.5    0.75  \n734   Domaine Clarence Dillon      13.5    0.75  \n2006            Domini Veneti      12.0    0.75  ",
      "text/html": "<div>\n<style scoped>\n    .dataframe tbody tr th:only-of-type {\n        vertical-align: middle;\n    }\n\n    .dataframe tbody tr th {\n        vertical-align: top;\n    }\n\n    .dataframe thead th {\n        text-align: right;\n    }\n</style>\n<table border=\"1\" class=\"dataframe\">\n  <thead>\n    <tr style=\"text-align: right;\">\n      <th></th>\n      <th>price</th>\n      <th>rating</th>\n      <th>country</th>\n      <th>region</th>\n      <th>sweetness</th>\n      <th>grape</th>\n      <th>manufacturer</th>\n      <th>strength</th>\n      <th>volume</th>\n    </tr>\n  </thead>\n  <tbody>\n    <tr>\n      <th>1908</th>\n      <td>3490.0</td>\n      <td>5</td>\n      <td>Rossija</td>\n      <td>Kuban'</td>\n      <td>dry</td>\n      <td>krasnostop</td>\n      <td>Galitskij i Galitskij</td>\n      <td>13.0</td>\n      <td>0.75</td>\n    </tr>\n    <tr>\n      <th>1050</th>\n      <td>9490.0</td>\n      <td>5</td>\n      <td>Frantsija</td>\n      <td>Burgundija</td>\n      <td>dry</td>\n      <td>shardone</td>\n      <td>William Fevre</td>\n      <td>12.5</td>\n      <td>0.75</td>\n    </tr>\n    <tr>\n      <th>1510</th>\n      <td>1343.0</td>\n      <td>5</td>\n      <td>Juzhnaja Afrika</td>\n      <td>Stellenbosh</td>\n      <td>dry</td>\n      <td>merlo</td>\n      <td>Simonsig</td>\n      <td>13.5</td>\n      <td>0.75</td>\n    </tr>\n    <tr>\n      <th>734</th>\n      <td>6790.0</td>\n      <td>1</td>\n      <td>Frantsija</td>\n      <td>Bordo</td>\n      <td>dry</td>\n      <td>kaberne fran</td>\n      <td>Domaine Clarence Dillon</td>\n      <td>13.5</td>\n      <td>0.75</td>\n    </tr>\n    <tr>\n      <th>2006</th>\n      <td>2240.0</td>\n      <td>5</td>\n      <td>Italija</td>\n      <td>Veneto</td>\n      <td>semi-dry</td>\n      <td>pino gridzhio</td>\n      <td>Domini Veneti</td>\n      <td>12.0</td>\n      <td>0.75</td>\n    </tr>\n  </tbody>\n</table>\n</div>"
     },
     "execution_count": 324,
     "metadata": {},
     "output_type": "execute_result"
    }
   ],
   "source": [
    "test.head()"
   ],
   "metadata": {
    "collapsed": false
   }
  },
  {
   "cell_type": "code",
   "execution_count": 325,
   "outputs": [
    {
     "data": {
      "text/plain": "                                                name    price  rating  \\\n0  Vino Tracer Riesling, Weinkellerei Hechtsheim,...   1312.0       5   \n1                     Vino Lighea, Donnafugata, 2021   4990.0       5   \n2             Vino Chenin Blanc, David & Nadia, 2022   6790.0       5   \n3  Vino Pinot Noir Alpine Vineyard, Rhys Vineyard...  34990.0       5   \n4                   Vino Grain de Gris, Listel, 2022   1393.0       5   \n\n                      country              region sweetness        grape  \\\n0                   Germanija             Pfal'ts  semi-dry      risling   \n1                     Italija           Sitsilija       dry      zibibbo   \n2             Juzhnaja Afrika           Svortlend       dry  shenen blan   \n3  Soedinennye Shtaty Ameriki         Kalifornija       dry    pino nuar   \n4                   Frantsija  Langedok-Russil'on       dry         sira   \n\n              manufacturer  strength  volume  \n0  Weinkellerei Hechtsheim      12.0    0.75  \n1              Donnafugata      12.5    0.75  \n2            David & Nadia      12.5    0.75  \n3           Rhys Vineyards      12.9    0.75  \n4                   Listel      12.0    0.75  ",
      "text/html": "<div>\n<style scoped>\n    .dataframe tbody tr th:only-of-type {\n        vertical-align: middle;\n    }\n\n    .dataframe tbody tr th {\n        vertical-align: top;\n    }\n\n    .dataframe thead th {\n        text-align: right;\n    }\n</style>\n<table border=\"1\" class=\"dataframe\">\n  <thead>\n    <tr style=\"text-align: right;\">\n      <th></th>\n      <th>name</th>\n      <th>price</th>\n      <th>rating</th>\n      <th>country</th>\n      <th>region</th>\n      <th>sweetness</th>\n      <th>grape</th>\n      <th>manufacturer</th>\n      <th>strength</th>\n      <th>volume</th>\n    </tr>\n  </thead>\n  <tbody>\n    <tr>\n      <th>0</th>\n      <td>Vino Tracer Riesling, Weinkellerei Hechtsheim,...</td>\n      <td>1312.0</td>\n      <td>5</td>\n      <td>Germanija</td>\n      <td>Pfal'ts</td>\n      <td>semi-dry</td>\n      <td>risling</td>\n      <td>Weinkellerei Hechtsheim</td>\n      <td>12.0</td>\n      <td>0.75</td>\n    </tr>\n    <tr>\n      <th>1</th>\n      <td>Vino Lighea, Donnafugata, 2021</td>\n      <td>4990.0</td>\n      <td>5</td>\n      <td>Italija</td>\n      <td>Sitsilija</td>\n      <td>dry</td>\n      <td>zibibbo</td>\n      <td>Donnafugata</td>\n      <td>12.5</td>\n      <td>0.75</td>\n    </tr>\n    <tr>\n      <th>2</th>\n      <td>Vino Chenin Blanc, David &amp; Nadia, 2022</td>\n      <td>6790.0</td>\n      <td>5</td>\n      <td>Juzhnaja Afrika</td>\n      <td>Svortlend</td>\n      <td>dry</td>\n      <td>shenen blan</td>\n      <td>David &amp; Nadia</td>\n      <td>12.5</td>\n      <td>0.75</td>\n    </tr>\n    <tr>\n      <th>3</th>\n      <td>Vino Pinot Noir Alpine Vineyard, Rhys Vineyard...</td>\n      <td>34990.0</td>\n      <td>5</td>\n      <td>Soedinennye Shtaty Ameriki</td>\n      <td>Kalifornija</td>\n      <td>dry</td>\n      <td>pino nuar</td>\n      <td>Rhys Vineyards</td>\n      <td>12.9</td>\n      <td>0.75</td>\n    </tr>\n    <tr>\n      <th>4</th>\n      <td>Vino Grain de Gris, Listel, 2022</td>\n      <td>1393.0</td>\n      <td>5</td>\n      <td>Frantsija</td>\n      <td>Langedok-Russil'on</td>\n      <td>dry</td>\n      <td>sira</td>\n      <td>Listel</td>\n      <td>12.0</td>\n      <td>0.75</td>\n    </tr>\n  </tbody>\n</table>\n</div>"
     },
     "execution_count": 325,
     "metadata": {},
     "output_type": "execute_result"
    }
   ],
   "source": [
    "df.head()"
   ],
   "metadata": {
    "collapsed": false
   }
  },
  {
   "cell_type": "code",
   "execution_count": 326,
   "outputs": [
    {
     "name": "stdout",
     "output_type": "stream",
     "text": [
      "Unique - country: 19, region - 78, manufacturer - 421\n"
     ]
    }
   ],
   "source": [
    "df[\"country\"] = df[\"country\"].map(lambda x: x.lower())\n",
    "df[\"region\"] = df[\"region\"].map(lambda x: x.lower())\n",
    "df[\"manufacturer\"] = df[\"manufacturer\"].map(lambda x: x.lower())\n",
    "print(f\"Unique - country: {df['country'].nunique()}, region - {df['region'].nunique()}, manufacturer - {df.manufacturer.nunique()}\")"
   ],
   "metadata": {
    "collapsed": false
   }
  },
  {
   "cell_type": "code",
   "execution_count": 327,
   "outputs": [
    {
     "name": "stdout",
     "output_type": "stream",
     "text": [
      "['price', 'country', 'region', 'sweetness', 'grape', 'strength', 'volume']\n"
     ]
    }
   ],
   "source": [
    "columns_to_split = list(df.columns)\n",
    "columns_to_split.remove(\"manufacturer\")\n",
    "columns_to_split.remove(\"name\")\n",
    "columns_to_split.remove(\"rating\")\n",
    "print(columns_to_split)"
   ],
   "metadata": {
    "collapsed": false
   }
  },
  {
   "cell_type": "code",
   "execution_count": 328,
   "outputs": [
    {
     "data": {
      "text/plain": "array([5, 5, 5, ..., 5, 5, 5], dtype=object)"
     },
     "execution_count": 328,
     "metadata": {},
     "output_type": "execute_result"
    }
   ],
   "source": [
    "# for (idx, column_name) in enumerate(df.columns):\n",
    "#     if column_name in columns_to_split:\n",
    "#         print(idx)\n",
    "\n",
    "dataset = df.to_numpy(copy=True)\n",
    "y = dataset[:, 2]\n",
    "y"
   ],
   "metadata": {
    "collapsed": false
   }
  },
  {
   "cell_type": "code",
   "execution_count": 329,
   "outputs": [],
   "source": [
    "categorical_features = [\"country\", \"region\", \"sweetness\", \"grape\", \"manufacturer\"]\n",
    "\n",
    "\n",
    "class Node:\n",
    "    \"\"\"\n",
    "    Represents a Node in Decision Tree\n",
    "    \"\"\"\n",
    "    def __init__(self, feature = None, threshold = None, left = None, right = None, gain = None, value = None):\n",
    "        self.feature = feature\n",
    "        self.threshold = threshold\n",
    "        self.left = left\n",
    "        self.right = right\n",
    "        self.gain = gain\n",
    "        self.value = value"
   ],
   "metadata": {
    "collapsed": false
   }
  },
  {
   "cell_type": "code",
   "execution_count": 330,
   "outputs": [],
   "source": [
    "def validate_arguments(criterion: str):\n",
    "    if criterion not in [\"gini\", \"entropy\"]:\n",
    "        raise RuntimeError(\"Criterion must be either 'gini' or 'entropy'\")\n",
    "\n",
    "\n",
    "class DecisionTree:\n",
    "    def __init__(self, max_depth: int = 5, min_samples: int = 2, criterion: str = \"gini\"):\n",
    "        self.root = None\n",
    "        validate_arguments(criterion)\n",
    "        self.max_depth = max_depth\n",
    "        self.min_samples = min_samples\n",
    "        self.criterion = criterion\n",
    "\n",
    "    def split_data(self, dataset: np.ndarray, feature: int, threshold):\n",
    "        left_dataset = []\n",
    "        right_dataset = []\n",
    "\n",
    "        def check_numeric(value: float):\n",
    "            return value <= threshold\n",
    "\n",
    "        def check_categorical(value):\n",
    "            return value in threshold\n",
    "\n",
    "        check = check_categorical if feature in categorical_features else check_numeric\n",
    "\n",
    "        for row in dataset:\n",
    "            if check(row[feature]):\n",
    "                left_dataset.append(row)\n",
    "            else:\n",
    "                right_dataset.append(row)\n",
    "\n",
    "        left_dataset = np.array(left_dataset, dtype=object)\n",
    "        right_dataset = np.array(right_dataset, dtype=object)\n",
    "        return left_dataset, right_dataset\n",
    "\n",
    "    def entropy(self, y):\n",
    "        entropy = 0\n",
    "\n",
    "        labels = np.unique(y)\n",
    "        for label in labels:\n",
    "            label_examples = y[y == label]\n",
    "            pl = len(label_examples) / len(y)\n",
    "            entropy += -pl * np.log2(pl)\n",
    "\n",
    "        return entropy\n",
    "\n",
    "    def gini(self, y):\n",
    "        sm = 0\n",
    "\n",
    "        labels = np.unique(y)\n",
    "        for label in labels:\n",
    "            label_examples = y[y == label]\n",
    "            freq = len(label_examples) / len(y)\n",
    "            sm += freq ** 2\n",
    "\n",
    "        return 1 - sm\n",
    "\n",
    "    def information_gain(self, parent, left, right):\n",
    "        entropy_function = self.entropy if self.criterion == \"entropy\" else self.gini\n",
    "        parent_entropy = entropy_function(parent)\n",
    "        left_entropy = entropy_function(left)\n",
    "        right_entropy = entropy_function(right)\n",
    "\n",
    "        left_weight = len(left) / len(parent)\n",
    "        right_weight = len(right) / len(parent)\n",
    "\n",
    "        weighted = left_weight * left_entropy + right_weight * right_entropy\n",
    "        information_gain = parent_entropy - weighted\n",
    "        return information_gain\n",
    "\n",
    "    def best_split(self, dataset):\n",
    "        best_params = {\n",
    "            \"gain\": -1,\n",
    "            \"feature\": None,\n",
    "            \"threshold\": None\n",
    "        }\n",
    "\n",
    "        for (idx, feature) in enumerate(columns_to_split):\n",
    "            feature_values = dataset[:, idx]\n",
    "            thresholds = np.unique(feature_values)\n",
    "\n",
    "            for threshold in thresholds:\n",
    "                left, right = self.split_data(dataset, idx, threshold)\n",
    "                if len(left) and len(right):\n",
    "                    y, yleft, yright = dataset[:, -1], left[:, -1], right[:, -1]\n",
    "                    info_gain = self.information_gain(y, yleft, yright)\n",
    "                    if info_gain > best_params[\"gain\"]:\n",
    "                        best_params[\"gain\"] = info_gain\n",
    "                        best_params[\"feature\"] = idx\n",
    "                        best_params[\"threshold\"] = threshold\n",
    "                        best_params[\"left\"] = left\n",
    "                        best_params[\"right\"] = right\n",
    "\n",
    "        return best_params\n",
    "\n",
    "    def leaf_value(self, y):\n",
    "        y = list(y)\n",
    "        return max(y, key=y.count)\n",
    "\n",
    "    def build(self, dataset: np.ndarray, current_depth = 0):\n",
    "        y = dataset[:, -1]\n",
    "        X = np.delete(dataset, -1, axis=1)\n",
    "\n",
    "        n_samples, n_features = X.shape\n",
    "        if n_samples >= self.min_samples and current_depth <= self.max_depth:\n",
    "            best_split_params = self.best_split(dataset)\n",
    "            if best_split_params[\"gain\"] > 0:\n",
    "                left_node = self.build(best_split_params[\"left\"], current_depth + 1)\n",
    "                right_node = self.build(best_split_params[\"right\"], current_depth + 1)\n",
    "\n",
    "                return Node(best_split_params[\"feature\"], best_split_params[\"threshold\"], left_node, right_node, best_split_params[\"gain\"])\n",
    "\n",
    "        value = self.leaf_value(y)\n",
    "        return Node(value=value)\n",
    "\n",
    "    def fit(self, X, y):\n",
    "        dataset = np.column_stack((X, y))\n",
    "        self.root = self.build(dataset)\n",
    "\n",
    "    def predict(self, X):\n",
    "        predictions = []\n",
    "        for x in X:\n",
    "            prediction = self.make_prediction(x, self.root)\n",
    "            predictions.append(prediction)\n",
    "\n",
    "        return np.array(predictions)\n",
    "\n",
    "    def make_prediction(self, x, node):\n",
    "        if node.value is not None:\n",
    "            return node.value\n",
    "\n",
    "        feature = x[node.feature]\n",
    "        threshold = node.threshold\n",
    "        def check_numeric(value: float):\n",
    "            return value <= threshold\n",
    "\n",
    "        def check_categorical(value):\n",
    "            return value in threshold\n",
    "\n",
    "        check = check_categorical if feature in categorical_features else check_numeric\n",
    "\n",
    "        if check(feature):\n",
    "            return self.make_prediction(x, node.left)\n",
    "        return self.make_prediction(x, node.right)"
   ],
   "metadata": {
    "collapsed": false
   }
  },
  {
   "cell_type": "code",
   "execution_count": 330,
   "outputs": [],
   "source": [],
   "metadata": {
    "collapsed": false
   }
  },
  {
   "cell_type": "code",
   "execution_count": 331,
   "outputs": [],
   "source": [
    "from sklearn.model_selection import train_test_split"
   ],
   "metadata": {
    "collapsed": false
   }
  },
  {
   "cell_type": "code",
   "execution_count": 332,
   "outputs": [
    {
     "data": {
      "text/plain": "                                                name    price  \\\n0  Vino Tracer Riesling, Weinkellerei Hechtsheim,...   1312.0   \n1                     Vino Lighea, Donnafugata, 2021   4990.0   \n2             Vino Chenin Blanc, David & Nadia, 2022   6790.0   \n3  Vino Pinot Noir Alpine Vineyard, Rhys Vineyard...  34990.0   \n4                   Vino Grain de Gris, Listel, 2022   1393.0   \n\n                      country              region sweetness        grape  \\\n0                   germanija             pfal'ts  semi-dry      risling   \n1                     italija           sitsilija       dry      zibibbo   \n2             juzhnaja afrika           svortlend       dry  shenen blan   \n3  soedinennye shtaty ameriki         kalifornija       dry    pino nuar   \n4                   frantsija  langedok-russil'on       dry         sira   \n\n              manufacturer  strength  volume  \n0  weinkellerei hechtsheim      12.0    0.75  \n1              donnafugata      12.5    0.75  \n2            david & nadia      12.5    0.75  \n3           rhys vineyards      12.9    0.75  \n4                   listel      12.0    0.75  ",
      "text/html": "<div>\n<style scoped>\n    .dataframe tbody tr th:only-of-type {\n        vertical-align: middle;\n    }\n\n    .dataframe tbody tr th {\n        vertical-align: top;\n    }\n\n    .dataframe thead th {\n        text-align: right;\n    }\n</style>\n<table border=\"1\" class=\"dataframe\">\n  <thead>\n    <tr style=\"text-align: right;\">\n      <th></th>\n      <th>name</th>\n      <th>price</th>\n      <th>country</th>\n      <th>region</th>\n      <th>sweetness</th>\n      <th>grape</th>\n      <th>manufacturer</th>\n      <th>strength</th>\n      <th>volume</th>\n    </tr>\n  </thead>\n  <tbody>\n    <tr>\n      <th>0</th>\n      <td>Vino Tracer Riesling, Weinkellerei Hechtsheim,...</td>\n      <td>1312.0</td>\n      <td>germanija</td>\n      <td>pfal'ts</td>\n      <td>semi-dry</td>\n      <td>risling</td>\n      <td>weinkellerei hechtsheim</td>\n      <td>12.0</td>\n      <td>0.75</td>\n    </tr>\n    <tr>\n      <th>1</th>\n      <td>Vino Lighea, Donnafugata, 2021</td>\n      <td>4990.0</td>\n      <td>italija</td>\n      <td>sitsilija</td>\n      <td>dry</td>\n      <td>zibibbo</td>\n      <td>donnafugata</td>\n      <td>12.5</td>\n      <td>0.75</td>\n    </tr>\n    <tr>\n      <th>2</th>\n      <td>Vino Chenin Blanc, David &amp; Nadia, 2022</td>\n      <td>6790.0</td>\n      <td>juzhnaja afrika</td>\n      <td>svortlend</td>\n      <td>dry</td>\n      <td>shenen blan</td>\n      <td>david &amp; nadia</td>\n      <td>12.5</td>\n      <td>0.75</td>\n    </tr>\n    <tr>\n      <th>3</th>\n      <td>Vino Pinot Noir Alpine Vineyard, Rhys Vineyard...</td>\n      <td>34990.0</td>\n      <td>soedinennye shtaty ameriki</td>\n      <td>kalifornija</td>\n      <td>dry</td>\n      <td>pino nuar</td>\n      <td>rhys vineyards</td>\n      <td>12.9</td>\n      <td>0.75</td>\n    </tr>\n    <tr>\n      <th>4</th>\n      <td>Vino Grain de Gris, Listel, 2022</td>\n      <td>1393.0</td>\n      <td>frantsija</td>\n      <td>langedok-russil'on</td>\n      <td>dry</td>\n      <td>sira</td>\n      <td>listel</td>\n      <td>12.0</td>\n      <td>0.75</td>\n    </tr>\n  </tbody>\n</table>\n</div>"
     },
     "execution_count": 332,
     "metadata": {},
     "output_type": "execute_result"
    }
   ],
   "source": [
    "X = df.drop(\"rating\", axis=1)\n",
    "y = df[\"rating\"]\n",
    "X.head()"
   ],
   "metadata": {
    "collapsed": false
   }
  },
  {
   "cell_type": "code",
   "execution_count": 333,
   "outputs": [],
   "source": [
    "X_train, X_test, y_train, y_test = list(map(lambda x: x.to_numpy(), train_test_split(X, y, test_size=0.2)))"
   ],
   "metadata": {
    "collapsed": false
   }
  },
  {
   "cell_type": "code",
   "execution_count": 334,
   "outputs": [
    {
     "data": {
      "text/plain": "numpy.ndarray"
     },
     "execution_count": 334,
     "metadata": {},
     "output_type": "execute_result"
    }
   ],
   "source": [
    "type(X_train)"
   ],
   "metadata": {
    "collapsed": false
   }
  },
  {
   "cell_type": "code",
   "execution_count": 335,
   "outputs": [
    {
     "name": "stdout",
     "output_type": "stream",
     "text": [
      "(688, 9) (688,)\n"
     ]
    }
   ],
   "source": [
    "decisionTree = DecisionTree(5, 2)\n",
    "print(X_test.shape, y_test.shape)\n",
    "decisionTree.fit(X_test, y_test)\n",
    "predictions = decisionTree.predict(X_test)\n"
   ],
   "metadata": {
    "collapsed": false
   }
  },
  {
   "cell_type": "code",
   "execution_count": 336,
   "outputs": [
    {
     "data": {
      "text/plain": "array([5, 5, 5, 5, 5, 5, 5, 5, 5, 5, 5, 5, 5, 5, 5, 5, 5, 5, 5, 5, 5, 5,\n       5, 5, 5, 5, 1, 5, 1, 5, 5, 5, 1, 1, 1, 5, 5, 5, 5, 5, 1, 1, 1, 5,\n       1, 5, 5, 5, 1, 5, 5, 5, 5, 5, 5, 5, 5, 5, 5, 5, 5, 5, 5, 5, 5, 5,\n       5, 5, 5, 5, 5, 5, 5, 5, 5, 5, 5, 1, 5, 1, 5, 5, 5, 5, 5, 5, 5, 5,\n       5, 1, 1, 5, 1, 5, 5, 5, 5, 5, 1, 5, 1, 5, 5, 5, 5, 1, 1, 5, 5, 5,\n       1, 5, 5, 5, 5, 5, 5, 5, 5, 5, 5, 5, 5, 5, 1, 5, 1, 5, 1, 5, 5, 5,\n       1, 1, 1, 1, 1, 5, 5, 5, 5, 1, 1, 5, 5, 1, 5, 5, 5, 1, 1, 5, 5, 5,\n       5, 5, 1, 5, 5, 5, 5, 5, 1, 5, 5, 5, 5, 5, 1, 5, 5, 5, 5, 1, 5, 5,\n       5, 5, 5, 5, 5, 5, 1, 5, 5, 5, 5, 5, 5, 5, 1, 5, 5, 5, 5, 5, 1, 5,\n       5, 1, 5, 5, 5, 5, 5, 1, 5, 1, 5, 5, 5, 5, 1, 1, 5, 1, 5, 5, 5, 5,\n       5, 1, 5, 4, 5, 5, 5, 5, 1, 5, 1, 5, 5, 5, 5, 5, 5, 1, 1, 1, 5, 5,\n       5, 5, 5, 1, 1, 5, 5, 5, 5, 5, 5, 5, 5, 5, 5, 5, 5, 1, 5, 5, 5, 5,\n       5, 5, 5, 1, 5, 5, 5, 1, 5, 5, 5, 5, 5, 1, 1, 5, 5, 1, 1, 5, 1, 5,\n       5, 5, 5, 5, 5, 5, 5, 1, 5, 1, 1, 5, 5, 5, 5, 5, 5, 5, 5, 1, 5, 5,\n       5, 5, 5, 4, 5, 5, 5, 5, 5, 5, 5, 1, 5, 5, 5, 5, 5, 5, 5, 5, 5, 5,\n       5, 1, 5, 5, 5, 5, 5, 5, 5, 5, 5, 5, 1, 5, 5, 5, 5, 5, 5, 5, 5, 5,\n       5, 5, 5, 5, 5, 5, 5, 5, 5, 5, 1, 5, 1, 5, 5, 1, 5, 5, 5, 5, 5, 5,\n       5, 5, 1, 1, 5, 5, 1, 5, 5, 5, 5, 5, 5, 1, 5, 5, 5, 5, 5, 5, 5, 5,\n       5, 5, 5, 1, 5, 5, 5, 1, 5, 5, 5, 1, 1, 1, 5, 5, 5, 5, 5, 5, 5, 5,\n       5, 5, 5, 5, 5, 5, 5, 5, 5, 5, 5, 5, 5, 5, 5, 5, 5, 1, 5, 1, 5, 5,\n       5, 5, 5, 5, 5, 1, 5, 5, 5, 5, 1, 1, 5, 5, 5, 5, 1, 5, 5, 5, 1, 5,\n       1, 1, 5, 5, 5, 5, 5, 1, 5, 5, 5, 5, 5, 5, 5, 5, 5, 5, 5, 5, 5, 5,\n       5, 5, 5, 1, 1, 5, 5, 5, 5, 5, 5, 5, 1, 5, 5, 5, 5, 1, 5, 5, 5, 5,\n       5, 5, 5, 5, 5, 5, 5, 5, 5, 5, 5, 5, 5, 5, 5, 5, 5, 5, 5, 1, 5, 5,\n       5, 5, 5, 5, 5, 5, 1, 5, 1, 5, 5, 5, 5, 1, 5, 5, 5, 5, 1, 5, 5, 5,\n       5, 1, 5, 5, 5, 5, 5, 5, 5, 5, 5, 5, 1, 5, 5, 5, 5, 1, 5, 5, 5, 1,\n       5, 5, 1, 5, 5, 5, 5, 5, 1, 5, 5, 5, 5, 5, 5, 1, 5, 1, 1, 5, 5, 5,\n       5, 1, 5, 5, 5, 1, 5, 1, 5, 5, 5, 5, 5, 5, 1, 1, 5, 5, 5, 5, 5, 1,\n       5, 5, 5, 1, 5, 5, 5, 5, 5, 1, 5, 5, 5, 5, 1, 5, 5, 5, 5, 5, 5, 5,\n       5, 5, 5, 5, 1, 5, 5, 5, 5, 1, 5, 5, 5, 5, 5, 1, 5, 1, 1, 5, 1, 1,\n       5, 5, 5, 5, 1, 5, 5, 5, 5, 1, 5, 5, 5, 5, 5, 5, 5, 5, 5, 5, 5, 5,\n       5, 5, 4, 5, 5, 5])"
     },
     "execution_count": 336,
     "metadata": {},
     "output_type": "execute_result"
    }
   ],
   "source": [
    "predictions"
   ],
   "metadata": {
    "collapsed": false
   }
  },
  {
   "cell_type": "code",
   "execution_count": 337,
   "outputs": [
    {
     "data": {
      "text/plain": "                                                name    price  rating  \\\n0  Vino Tracer Riesling, Weinkellerei Hechtsheim,...   1312.0       5   \n1                     Vino Lighea, Donnafugata, 2021   4990.0       5   \n2             Vino Chenin Blanc, David & Nadia, 2022   6790.0       5   \n3  Vino Pinot Noir Alpine Vineyard, Rhys Vineyard...  34990.0       5   \n4                   Vino Grain de Gris, Listel, 2022   1393.0       5   \n\n                      country              region sweetness        grape  \\\n0                   germanija             pfal'ts  semi-dry      risling   \n1                     italija           sitsilija       dry      zibibbo   \n2             juzhnaja afrika           svortlend       dry  shenen blan   \n3  soedinennye shtaty ameriki         kalifornija       dry    pino nuar   \n4                   frantsija  langedok-russil'on       dry         sira   \n\n              manufacturer  strength  volume  \n0  weinkellerei hechtsheim      12.0    0.75  \n1              donnafugata      12.5    0.75  \n2            david & nadia      12.5    0.75  \n3           rhys vineyards      12.9    0.75  \n4                   listel      12.0    0.75  ",
      "text/html": "<div>\n<style scoped>\n    .dataframe tbody tr th:only-of-type {\n        vertical-align: middle;\n    }\n\n    .dataframe tbody tr th {\n        vertical-align: top;\n    }\n\n    .dataframe thead th {\n        text-align: right;\n    }\n</style>\n<table border=\"1\" class=\"dataframe\">\n  <thead>\n    <tr style=\"text-align: right;\">\n      <th></th>\n      <th>name</th>\n      <th>price</th>\n      <th>rating</th>\n      <th>country</th>\n      <th>region</th>\n      <th>sweetness</th>\n      <th>grape</th>\n      <th>manufacturer</th>\n      <th>strength</th>\n      <th>volume</th>\n    </tr>\n  </thead>\n  <tbody>\n    <tr>\n      <th>0</th>\n      <td>Vino Tracer Riesling, Weinkellerei Hechtsheim,...</td>\n      <td>1312.0</td>\n      <td>5</td>\n      <td>germanija</td>\n      <td>pfal'ts</td>\n      <td>semi-dry</td>\n      <td>risling</td>\n      <td>weinkellerei hechtsheim</td>\n      <td>12.0</td>\n      <td>0.75</td>\n    </tr>\n    <tr>\n      <th>1</th>\n      <td>Vino Lighea, Donnafugata, 2021</td>\n      <td>4990.0</td>\n      <td>5</td>\n      <td>italija</td>\n      <td>sitsilija</td>\n      <td>dry</td>\n      <td>zibibbo</td>\n      <td>donnafugata</td>\n      <td>12.5</td>\n      <td>0.75</td>\n    </tr>\n    <tr>\n      <th>2</th>\n      <td>Vino Chenin Blanc, David &amp; Nadia, 2022</td>\n      <td>6790.0</td>\n      <td>5</td>\n      <td>juzhnaja afrika</td>\n      <td>svortlend</td>\n      <td>dry</td>\n      <td>shenen blan</td>\n      <td>david &amp; nadia</td>\n      <td>12.5</td>\n      <td>0.75</td>\n    </tr>\n    <tr>\n      <th>3</th>\n      <td>Vino Pinot Noir Alpine Vineyard, Rhys Vineyard...</td>\n      <td>34990.0</td>\n      <td>5</td>\n      <td>soedinennye shtaty ameriki</td>\n      <td>kalifornija</td>\n      <td>dry</td>\n      <td>pino nuar</td>\n      <td>rhys vineyards</td>\n      <td>12.9</td>\n      <td>0.75</td>\n    </tr>\n    <tr>\n      <th>4</th>\n      <td>Vino Grain de Gris, Listel, 2022</td>\n      <td>1393.0</td>\n      <td>5</td>\n      <td>frantsija</td>\n      <td>langedok-russil'on</td>\n      <td>dry</td>\n      <td>sira</td>\n      <td>listel</td>\n      <td>12.0</td>\n      <td>0.75</td>\n    </tr>\n  </tbody>\n</table>\n</div>"
     },
     "execution_count": 337,
     "metadata": {},
     "output_type": "execute_result"
    }
   ],
   "source": [
    "df.head()"
   ],
   "metadata": {
    "collapsed": false
   }
  },
  {
   "cell_type": "code",
   "execution_count": 338,
   "outputs": [],
   "source": [
    "from sklearn.metrics import accuracy_score, root_mean_squared_error"
   ],
   "metadata": {
    "collapsed": false
   }
  },
  {
   "cell_type": "code",
   "execution_count": 339,
   "outputs": [
    {
     "name": "stdout",
     "output_type": "stream",
     "text": [
      "Accuracy score:          0.9040697674418605\n",
      "Root mean squared error: 1.1588888021781698\n"
     ]
    }
   ],
   "source": [
    "accuracy = accuracy_score(y_test, predictions)\n",
    "rmse = root_mean_squared_error(y_test, predictions)\n",
    "\n",
    "print(f\"Accuracy score:          {accuracy}\")\n",
    "print(f\"Root mean squared error: {rmse}\")"
   ],
   "metadata": {
    "collapsed": false
   }
  },
  {
   "cell_type": "code",
   "execution_count": 340,
   "outputs": [],
   "source": [
    "from scipy.stats import mode\n",
    "\n",
    "class RandomForest:\n",
    "    def __init__(self, n_trees, max_depth=5, min_samples=2, criterion='gini'):\n",
    "        self.n_trees = n_trees\n",
    "        self.trees = [DecisionTree(max_depth=max_depth, min_samples=min_samples, criterion=criterion)\n",
    "                      for _ in range(n_trees)]\n",
    "\n",
    "    def fit(self, X, y):\n",
    "        n_samples, n_features = X.shape\n",
    "\n",
    "        for tree in self.trees:\n",
    "            indices = np.random.choice(range(n_samples), size=n_samples, replace=True)\n",
    "            sample_X, sample_y = X[indices], y[indices]\n",
    "\n",
    "            tree.fit(sample_X, sample_y)\n",
    "\n",
    "    def predict(self, X):\n",
    "        predictions = np.zeros((self.n_trees, X.shape[0]))\n",
    "\n",
    "        for i, tree in enumerate(self.trees):\n",
    "            predictions[i] = tree.predict(X)\n",
    "\n",
    "        final_predictions = mode(predictions, axis=0).mode\n",
    "\n",
    "        return final_predictions"
   ],
   "metadata": {
    "collapsed": false
   }
  },
  {
   "cell_type": "code",
   "execution_count": 343,
   "outputs": [
    {
     "name": "stdout",
     "output_type": "stream",
     "text": [
      "Fit-predict started at 2024-12-18 03:38:50.482915\n",
      "Duration - 3:45:39.797273\n"
     ]
    }
   ],
   "source": [
    "import datetime\n",
    "\n",
    "rf = RandomForest(n_trees=1_000)\n",
    "start_time = datetime.datetime.now()\n",
    "print(f\"Fit-predict started at {start_time}\")\n",
    "rf.fit(X_train, y_train)\n",
    "rf_predictions = rf.predict(X_test)\n",
    "duration = datetime.datetime.now() - start_time\n",
    "print(f\"Duration - {duration}\")"
   ],
   "metadata": {
    "collapsed": false
   }
  },
  {
   "cell_type": "code",
   "execution_count": 344,
   "outputs": [
    {
     "name": "stdout",
     "output_type": "stream",
     "text": [
      "Accuracy score:          0.8459302325581395\n",
      "Root mean squared error: 1.4858831842407068\n"
     ]
    }
   ],
   "source": [
    "accuracy = accuracy_score(y_test, rf_predictions)\n",
    "rmse = root_mean_squared_error(y_test, rf_predictions)\n",
    "\n",
    "print(f\"Accuracy score:          {accuracy}\")\n",
    "print(f\"Root mean squared error: {rmse}\")"
   ],
   "metadata": {
    "collapsed": false
   }
  },
  {
   "cell_type": "code",
   "execution_count": 345,
   "outputs": [],
   "source": [
    "import numpy as np\n",
    "\n",
    "class GradientBoost:\n",
    "    def __init__(self, n_trees=100, learning_rate=0.1, max_depth=3, min_samples=2, criterion='gini'):\n",
    "        self.n_trees = n_trees\n",
    "        self.learning_rate = learning_rate\n",
    "        self.max_depth = max_depth\n",
    "        self.min_samples = min_samples\n",
    "        self.criterion = criterion\n",
    "        self.trees = []\n",
    "        self.initial_pred = None\n",
    "\n",
    "    def fit(self, X, y):\n",
    "        self.initial_pred = np.log(np.mean(y) / (1 - np.mean(y)))\n",
    "        y_pred = np.full(y.shape, self.initial_pred)\n",
    "\n",
    "        for _ in range(self.n_trees):\n",
    "            residuals = y - self.sigmoid(y_pred)\n",
    "\n",
    "            tree = DecisionTree(max_depth=self.max_depth, min_samples=self.min_samples, criterion=self.criterion)\n",
    "            tree.fit(X, residuals)\n",
    "            self.trees.append(tree)\n",
    "\n",
    "            update = tree.predict(X)\n",
    "            y_pred += self.learning_rate * update\n",
    "\n",
    "    def sigmoid(self, z):\n",
    "        return 1 / (1 + np.exp(-z))\n",
    "\n",
    "    def predict_proba(self, X):\n",
    "        y_pred = np.full(shape=(X.shape[0],), fill_value=self.initial_pred)\n",
    "\n",
    "        for tree in self.trees:\n",
    "            update = tree.predict(X)\n",
    "            y_pred += self.learning_rate * update\n",
    "\n",
    "        proba = self.sigmoid(y_pred)\n",
    "        return np.vstack([1 - proba, proba]).T\n",
    "\n",
    "    def predict(self, X):\n",
    "        proba = self.predict_proba(X)\n",
    "        return (proba[:, 1] > 0.5).astype(int)"
   ],
   "metadata": {
    "collapsed": false
   }
  },
  {
   "cell_type": "code",
   "execution_count": null,
   "outputs": [
    {
     "name": "stderr",
     "output_type": "stream",
     "text": [
      "/var/folders/m7/jdj9sqm11lnbnsvmlr2xxk5c0000gn/T/ipykernel_54296/1514223918.py:14: RuntimeWarning: invalid value encountered in log\n",
      "  self.initial_pred = np.log(np.mean(y) / (1 - np.mean(y)))\n"
     ]
    }
   ],
   "source": [
    "gb = GradientBoost()\n",
    "gb.fit(X_train, y_train)"
   ],
   "metadata": {
    "collapsed": false,
    "pycharm": {
     "is_executing": true
    }
   }
  },
  {
   "cell_type": "code",
   "execution_count": null,
   "outputs": [],
   "source": [
    "import matplotlib.pyplot as plt\n",
    "from sklearn.tree import DecisionTreeClassifier\n",
    "from sklearn.ensemble import RandomForestClassifier\n",
    "\n",
    "\n",
    "\n",
    "def measure_tree_depth_sklearn(X_train, y_train):\n",
    "    depths = []\n",
    "    max_features_list = range(1, X_train.shape[1] + 1)\n",
    "\n",
    "    for max_features in max_features_list:\n",
    "        clf = DecisionTreeClassifier(max_features=max_features)\n",
    "        clf.fit(X_train, y_train)\n",
    "        depths.append(clf.tree_.max_depth)\n",
    "\n",
    "    return max_features_list, depths\n",
    "\n",
    "def evaluate_model_depth(model_class, X_train, y_train):\n",
    "    depths = []\n",
    "    accuracies_train = []\n",
    "    accuracies_test = []\n",
    "    max_depths = range(1, 21)  # Меняем глубину дерева от 1 до 20\n",
    "\n",
    "    for max_depth in max_depths:\n",
    "        model = model_class(max_depth=max_depth)\n",
    "        model.fit(X_train, y_train)\n",
    "        depths.append(max_depth)\n",
    "        y_pred_train = model.predict(X_train)\n",
    "        y_pred_test = model.predict(X_test)\n",
    "        accuracies_train.append(accuracy_score(y_train, y_pred_train))\n",
    "        accuracies_test.append(accuracy_score(y_test, y_pred_test))\n",
    "\n",
    "    return depths, accuracies_train, accuracies_test\n",
    "\n",
    "def plot_tree_depth_variation(X_train, y_train):\n",
    "    _, depths_sklearn = measure_tree_depth_sklearn(X_train, y_train)\n",
    "    plt.plot(depths_sklearn, label='Sklearn Tree Depth')\n",
    "\n",
    "\n",
    "    # depths_custom, _, _ = evaluate_model_depth(DecisionTree, X_train, y_train)\n",
    "    # plt.plot(depths_custom, label='Custom Tree Depth')\n",
    "\n",
    "    plt.xlabel('Max Features')\n",
    "    plt.ylabel('Tree Depth')\n",
    "    plt.legend()\n",
    "    plt.title('Tree Depth Variation')\n",
    "    plt.show()\n",
    "\n",
    "def plot_accuracy_vs_depth(X_train, y_train, X_test, y_test):\n",
    "    depths_sklearn, acc_train_sklearn, acc_test_sklearn = evaluate_model_depth(DecisionTreeClassifier, X_train, y_train)\n",
    "    plt.plot(depths_sklearn, acc_train_sklearn, label='Sklearn Train Accuracy')\n",
    "    plt.plot(depths_sklearn, acc_test_sklearn, label='Sklearn Test Accuracy')\n",
    "\n",
    "    # depths_custom, acc_train_custom, acc_test_custom = evaluate_model_depth(MyDecisionTree, X_train, y_train)\n",
    "    # plt.plot(depths_custom, acc_train_custom, label='Custom Train Accuracy')\n",
    "    # plt.plot(depths_custom, acc_test_custom, label='Custom Test Accuracy')\n",
    "\n",
    "    plt.xlabel('Tree Depth')\n",
    "    plt.ylabel('Accuracy')\n",
    "    plt.legend()\n",
    "    plt.title('Accuracy vs. Tree Depth')\n",
    "    plt.show()\n",
    "\n",
    "def plot_forest_accuracy_vs_num_trees(X_train, y_train, X_test, y_test):\n",
    "    n_trees_list = range(1, 101, 10)\n",
    "    acc_train_sklearn = []\n",
    "    acc_test_sklearn = []\n",
    "\n",
    "    for n_trees in n_trees_list:\n",
    "        rf_clf = RandomForestClassifier(n_estimators=n_trees)\n",
    "        rf_clf.fit(X_train, y_train)\n",
    "\n",
    "        train_pred = rf_clf.predict(X_train)\n",
    "        train_accuracy = accuracy_score(y_train, train_pred)\n",
    "        acc_train_sklearn.append(train_accuracy)\n",
    "\n",
    "        test_pred = rf_clf.predict(X_test)\n",
    "        test_accuracy = accuracy_score(y_test, test_pred)\n",
    "        acc_test_sklearn.append(test_accuracy)\n",
    "\n",
    "    acc_train_custom = []\n",
    "    acc_test_custom = []\n",
    "\n",
    "    for n_trees in n_trees_list:\n",
    "        rf_custom = RandomForest(n_trees=n_trees)\n",
    "        rf_custom.fit(X_train, y_train)\n",
    "\n",
    "        train_pred_custom = rf_custom.predict(X_train)\n",
    "        train_accuracy_custom = accuracy_score(y_train, train_pred_custom)\n",
    "        acc_train_custom.append(train_accuracy_custom)\n",
    "\n",
    "        test_pred_custom = rf_custom.predict(X_test)\n",
    "        test_accuracy_custom = accuracy_score(y_test, test_pred_custom)\n",
    "        acc_test_custom.append(test_accuracy_custom)\n",
    "\n",
    "    plt.figure(figsize=(12, 6))\n",
    "\n",
    "    plt.plot(n_trees_list, acc_train_sklearn, label='Sklearn RF Train Accuracy', marker='o')\n",
    "    plt.plot(n_trees_list, acc_test_sklearn, label='Sklearn RF Test Accuracy', marker='o')\n",
    "\n",
    "    plt.plot(n_trees_list, acc_train_custom, label='Custom RF Train Accuracy', linestyle='--', marker='x')\n",
    "    plt.plot(n_trees_list, acc_test_custom, label='Custom RF Test Accuracy', linestyle='--', marker='x')\n",
    "\n",
    "    plt.xlabel('Number of Trees')\n",
    "    plt.ylabel('Accuracy')\n",
    "    plt.title('Accuracy vs. Number of Trees in Random Forest')\n",
    "    plt.legend()\n",
    "    plt.grid(True)\n",
    "    plt.show()"
   ],
   "metadata": {
    "collapsed": false,
    "pycharm": {
     "is_executing": true
    }
   }
  }
 ],
 "metadata": {
  "kernelspec": {
   "display_name": "Python 3",
   "language": "python",
   "name": "python3"
  },
  "language_info": {
   "codemirror_mode": {
    "name": "ipython",
    "version": 2
   },
   "file_extension": ".py",
   "mimetype": "text/x-python",
   "name": "python",
   "nbconvert_exporter": "python",
   "pygments_lexer": "ipython2",
   "version": "2.7.6"
  }
 },
 "nbformat": 4,
 "nbformat_minor": 0
}
